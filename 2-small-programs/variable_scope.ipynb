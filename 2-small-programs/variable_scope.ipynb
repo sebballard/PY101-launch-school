{
 "cells": [
  {
   "cell_type": "code",
   "execution_count": null,
   "id": "2d360466-9ce0-4eeb-a695-4716b13a576a",
   "metadata": {},
   "outputs": [],
   "source": [
    "num = 5\n",
    "\n",
    "def my_func():\n",
    "    print(num)\n",
    "\n",
    "my_func()"
   ]
  },
  {
   "cell_type": "markdown",
   "id": "5885164c-e1bf-414a-adfe-dda89e3e9a55",
   "metadata": {},
   "source": [
    "This code will print `5`, There is no local variable `num`, thus global variable `num` defined on line 1 is accesible inside the function."
   ]
  },
  {
   "cell_type": "code",
   "execution_count": 1,
   "id": "696c9c71-3109-433f-a79d-d44636a47b30",
   "metadata": {},
   "outputs": [
    {
     "name": "stdout",
     "output_type": "stream",
     "text": [
      "5\n"
     ]
    }
   ],
   "source": [
    "num = 5\n",
    "\n",
    "def my_func():\n",
    "    num = 10\n",
    "\n",
    "my_func()\n",
    "print(num)\n"
   ]
  },
  {
   "cell_type": "markdown",
   "id": "1a308c9c-7115-49ac-8e6c-c3676a8f6a57",
   "metadata": {},
   "source": [
    "This will print `5`. The assignment `num = 10` creates a new variable in the scope of `my_func`. \n",
    "This local variable exists while the function is being run. The variable `num` defined on line 1 is unaffected\n",
    "by this. Thus when `print` is invoked in the global scope it is the global variable `num` defined on line 1\n",
    "which is printed."
   ]
  },
  {
   "cell_type": "code",
   "execution_count": null,
   "id": "e3e6534e-1f9c-41e7-93e0-a445ad870e24",
   "metadata": {},
   "outputs": [],
   "source": [
    "num = 5\n",
    "\n",
    "def my_func():\n",
    "    global num\n",
    "    num = 10\n",
    "\n",
    "my_func()\n",
    "print(num)\n"
   ]
  },
  {
   "cell_type": "markdown",
   "id": "a67e4589-bdb7-450a-92e2-80991b9f874d",
   "metadata": {},
   "source": [
    "This will print `10`. Usually an assignment in a function will create a variable scoped to that function.\n",
    "This differs because the `global` keyword is used with the `num` variable. This makes it known that any use of `num`\n",
    "isnide the function refers to the `global` variable `num`. thus the reassignment on line 5 reassigns the global\n",
    "variable `num` to `10`, and this is what is printed by the call to `print` on line 8."
   ]
  },
  {
   "cell_type": "code",
   "execution_count": null,
   "id": "76947b3f-0a54-4bc1-a108-a723483531dc",
   "metadata": {},
   "outputs": [],
   "source": [
    "def outer():\n",
    "    outer_var = 'Hello'\n",
    "\n",
    "    def inner():\n",
    "        inner_var = 'World'\n",
    "        print(outer_var, inner_var)\n",
    "\n",
    "    inner()\n",
    "\n",
    "outer()\n"
   ]
  },
  {
   "cell_type": "markdown",
   "id": "6ba90f71-c698-4217-a773-bf6210644b0e",
   "metadata": {},
   "source": [
    "This will print `Hello` and `World` separated by a space. The function `inner`\n",
    "is nested in the function `outer`. Variables in outer scopes are available in inner scopes as \n",
    "long so no inner local variable is made that shadows them.\n",
    "`inner_var` and `outer_var` are both available when print is called on line 6."
   ]
  },
  {
   "cell_type": "code",
   "execution_count": 4,
   "id": "f40400cb-8f76-4abb-9e4d-5fd24a340fc2",
   "metadata": {},
   "outputs": [
    {
     "name": "stdout",
     "output_type": "stream",
     "text": [
      "5\n"
     ]
    }
   ],
   "source": [
    "def my_func():\n",
    "    num = 10\n",
    "\n",
    "my_func()\n",
    "print(num)\n"
   ]
  },
  {
   "cell_type": "markdown",
   "id": "7f695b85-c334-4444-afdc-5a730c96a1d2",
   "metadata": {},
   "source": [
    "This code will raise an `NameError`. the function `my_func` defines a local variable `num`. Variables defined\n",
    "within a function are only available in that function. \n",
    "The function  calll to `print` on line 5 looks for a variable named `num` in the global scope.\n",
    "No such variable exists, thus it raises an error."
   ]
  },
  {
   "cell_type": "code",
   "execution_count": 3,
   "id": "50a8138a-f4dc-461c-8abf-d4119f6dece7",
   "metadata": {},
   "outputs": [
    {
     "name": "stdout",
     "output_type": "stream",
     "text": [
      "Inner 1: 25\n",
      "Inner 2: 15\n"
     ]
    }
   ],
   "source": [
    "def my_func():\n",
    "    x = 15\n",
    "\n",
    "    def inner_func1():\n",
    "        x = 25\n",
    "        print(\"Inner 1:\", x)\n",
    "\n",
    "    def inner_func2():\n",
    "        print(\"Inner 2:\", x)\n",
    "\n",
    "    inner_func1()\n",
    "    inner_func2()\n",
    "\n",
    "my_func()\n"
   ]
  },
  {
   "cell_type": "markdown",
   "id": "46c50ae4-9666-4cd0-8b70-2a3d973861da",
   "metadata": {},
   "source": [
    "In the function `my_func` the first thing that happens is `x` being initialized to the value `15`. Then two nested inner functions are\n",
    "defined; `inner_func1` and `inner_func2`. `inner_func1` Defines a new local variable `x` to 25. This creates a variable only accesible \n",
    "in `inner_func1`. Thus the call to `print` with `x` passed to it prints the `x` local to that function. ie `25`.\n",
    "`inner_func2` differs in that it does not create a new local variable. Thus when `x` is passed to `print` it looks in outer scopes\n",
    "and finds the nearest `x` variable, which in this case is the same one defined on line `2` where `x` is assigned the value `15`.\n",
    "Thus what is printed is:\n",
    "Inner 1: 25\n",
    "Inner 2: 15"
   ]
  },
  {
   "cell_type": "code",
   "execution_count": null,
   "id": "6f53b9d1-3bd9-494b-9e37-e20e827acbb1",
   "metadata": {},
   "outputs": [],
   "source": []
  }
 ],
 "metadata": {
  "kernelspec": {
   "display_name": "Python 3 (ipykernel)",
   "language": "python",
   "name": "python3"
  },
  "language_info": {
   "codemirror_mode": {
    "name": "ipython",
    "version": 3
   },
   "file_extension": ".py",
   "mimetype": "text/x-python",
   "name": "python",
   "nbconvert_exporter": "python",
   "pygments_lexer": "ipython3",
   "version": "3.12.3"
  }
 },
 "nbformat": 4,
 "nbformat_minor": 5
}
