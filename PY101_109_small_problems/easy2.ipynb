{
 "cells": [
  {
   "cell_type": "markdown",
   "id": "ca2c4e33-5c5a-44ef-8d0a-f9d8e169f146",
   "metadata": {},
   "source": [
    "# (1) **Welcome Stranger**\n",
    "\n",
    "Create a function that takes 2 arguments, a list and a dictionary. \n",
    "\n",
    "The list will contain 2 or more elements that, when joined with spaces, will produce a person's name. \n",
    "\n",
    "The dictionary will contain two keys, \"title\" and \"occupation\", and the appropriate values. \n",
    "\n",
    "Your function should return a greeting that uses the person's full name, and mentions the person's title."
   ]
  },
  {
   "cell_type": "markdown",
   "id": "78df96c9-e2a6-4b28-b6b5-431c6e27bc08",
   "metadata": {},
   "source": [
    "#### **Inputs/Outputs**\n",
    "\n",
    "Input(s):\n",
    "* List of two or more elements\n",
    "    * Parts of a name, in order\n",
    "* Dictionary containing two keys\n",
    "    * \"title\"\n",
    "    * \"occupation\"\n",
    "***\n",
    "Output(s):\n",
    "* Full greeting\n",
    "    * Full name\n",
    "    * title and occupation "
   ]
  },
  {
   "cell_type": "markdown",
   "id": "098cb309-1c06-44a0-922a-da2831b352a6",
   "metadata": {},
   "source": [
    "#### **Problem Domain**\n",
    "\n",
    "N/A"
   ]
  },
  {
   "cell_type": "markdown",
   "id": "23d75ea2-9e60-44dc-b7ef-6a2c7855554b",
   "metadata": {},
   "source": [
    "#### **Implicit Requirements**\n",
    "\n",
    "* List may contain more than two elements\n",
    "    * They should be joined in order with a space between to get the full name\n",
    "* Output string\n",
    "    * Full name first, occupation and title after"
   ]
  },
  {
   "cell_type": "markdown",
   "id": "94437bd6-de07-4ab0-8b6a-721272992f2f",
   "metadata": {},
   "source": [
    "#### **Clarifying Questions**\n",
    "\n",
    "* How many parts will make up name?\n",
    "    * Can be at least 3\n",
    "    * Having more shouldn't be a problem\n",
    "\n",
    "* Should we capitalize names, titles or occupations?\n",
    "    * In the example the inputs are already capitalized]\n",
    "    * Parts of names can sometimes not be capitalized ie \"Van der Tol\" a Dutch last name\n",
    "        * Thus it may be best to leave names capitalized as they are in the input list\n",
    "* Is it possibe that some jobs do not have a title?\n",
    "    * Seems plausible, so best to account for this in the code"
   ]
  },
  {
   "cell_type": "markdown",
   "id": "8e3db97d-4e54-4225-ba49-a320af325bde",
   "metadata": {},
   "source": [
    "#### **Mental Model**\n",
    "\n",
    "* Input will be composed of a list and dictionary.\n",
    "    * List contains elements of a full name\n",
    "    * Dictionary contains an occupation and title\n",
    "* We want to extract the full name fromt the list, and the occupation and title from the dictionary.\n",
    "* Use these values to create a unique greeting. "
   ]
  },
  {
   "cell_type": "markdown",
   "id": "76d2b406-0c0f-48d5-88fe-3d6c5d16fd9b",
   "metadata": {},
   "source": [
    "#### **Examples/Test Cases**\n",
    "```python\n",
    "greeting = greetings(\n",
    "    [\"John\", \"Q\", \"Doe\"],\n",
    "    {\"title\": \"Master\", \"occupation\": \"Plumber\"},\n",
    ")\n",
    "print(greeting)\n",
    "# Hello, John Q Doe! Nice to have a Master Plumber around.\n",
    "\n",
    "greeting2 = greetings(\n",
    "    [\"John\", \"Q\", \"Doe\"],\n",
    "    {\"title\": \"\", \"occupation\": \"Plumber\"},\n",
    ")\n",
    "\n",
    "print(greeting2)\n",
    "\n",
    "# Hello, John Q Doe! Nice to have a Plumber around.\n",
    "    \n",
    "```"
   ]
  },
  {
   "cell_type": "markdown",
   "id": "790086ca-a9fe-4443-b700-8fe3e8d2e1de",
   "metadata": {},
   "source": [
    "#### **Data/Algorithm**\n",
    "`greetings` function: `name_list`, `job_dict`\n",
    "* Set `name` to string of elements of `name_list` separated by a space\n",
    "* If `title` key of `job_dict` has empty string as element or does not exist\n",
    "    * Set `title_occupation` to `occupation` value\n",
    "* Otherwise set `title_occupation` to title string and occupation string separated by a space\n",
    "* Use `name` and `title_occupation` to make the output string greeting."
   ]
  },
  {
   "cell_type": "code",
   "execution_count": 6,
   "id": "c24402a4-88db-4b71-8058-c16315a85509",
   "metadata": {},
   "outputs": [],
   "source": [
    "def greetings(name_list, job_dict):\n",
    "    full_name =  \" \".join(name_list)\n",
    "\n",
    "    if job_dict.get(\"title\"):\n",
    "        title_occupation = job_dict[\"title\"] + \" \" + job_dict[\"occupation\"]\n",
    "    else:\n",
    "        title_occupation = job_dict[\"occupation\"]\n",
    "\n",
    "    output_greeting = f\"Hello, {full_name}! Nice to have a {title_occupation} around.\"\n",
    "\n",
    "    return output_greeting"
   ]
  },
  {
   "cell_type": "code",
   "execution_count": 7,
   "id": "c2f355b5-95a7-4394-b027-17a1331cb4c1",
   "metadata": {},
   "outputs": [
    {
     "name": "stdout",
     "output_type": "stream",
     "text": [
      "Hello, John Q Doe! Nice to have a Master Plumber around.\n",
      "Hello, John Q Doe! Nice to have a Plumber around.\n"
     ]
    }
   ],
   "source": [
    "greeting = greetings(\n",
    "    [\"John\", \"Q\", \"Doe\"],\n",
    "    {\"title\": \"Master\", \"occupation\": \"Plumber\"},\n",
    ")\n",
    "print(greeting)\n",
    "# Hello, John Q Doe! Nice to have a Master Plumber around.\n",
    "\n",
    "greeting2 = greetings(\n",
    "    [\"John\", \"Q\", \"Doe\"],\n",
    "    {\"title\": \"\", \"occupation\": \"Plumber\"},\n",
    ")\n",
    "\n",
    "print(greeting2)\n",
    "\n",
    "# Hello, John Q Doe! Nice to have a Plumber around."
   ]
  },
  {
   "cell_type": "markdown",
   "id": "045e9c70-8e5e-46d6-bda3-a44bdcff2372",
   "metadata": {},
   "source": [
    "# **(2) Greeting a user**\n",
    "\n",
    "Write a program that asks for user's name, then greets the user. \n",
    "\n",
    "If the user appends a ! to their name, the computer will yell the greeting (print it using all uppercase)."
   ]
  },
  {
   "cell_type": "markdown",
   "id": "ee0da345-69df-4bb3-b1b7-0bf1aacafe12",
   "metadata": {},
   "source": [
    "#### **Inputs/Outputs**\n",
    "\n",
    "Input(s):\n",
    "* String containing user input regarding what their name is.\n",
    "***\n",
    "Output(s):\n",
    "* String containing greeting to use\n",
    "    * Different greeting depending on whether the user used a \"!\" in their response\n",
    "    * If \"!\" is used response should be in call capitals."
   ]
  },
  {
   "cell_type": "markdown",
   "id": "4a530053-e1f1-424a-8fda-69379e7321e1",
   "metadata": {},
   "source": [
    "#### **Problem Domain**\n",
    "\n",
    "N/A"
   ]
  },
  {
   "cell_type": "markdown",
   "id": "be1fe5a5-0512-41e0-8d22-1186f229cc7c",
   "metadata": {},
   "source": [
    "#### **Implicit Requirements**\n",
    "\n",
    "N/A"
   ]
  },
  {
   "cell_type": "markdown",
   "id": "30612495-6e19-4a3d-a7ce-6fef37d4031a",
   "metadata": {},
   "source": [
    "#### **Clarifying Questions**\n",
    "* What do we do if the user enters a blank string, or one that only contains spaces?\n",
    "    * We can ask them to re-enter their name\n",
    "* What happens if the sentence ends with another non letter character?\n",
    "    * We will assume that it is part of their name\n",
    "    "
   ]
  },
  {
   "cell_type": "markdown",
   "id": "24116879-aa70-4350-b8b9-42b2e27a33d6",
   "metadata": {},
   "source": [
    "#### **Mental Model**\n",
    "\n",
    "We will ask the user to input their name.\n",
    "\n",
    "We will then print a greeting to them that varies depending on whether their input ends with \n",
    "\n",
    "an exclamation mark.\n",
    "\n",
    "If it does, the response will be in all caps and ask why they were shouting. Otherwise our greeting will simply say 'Hello'\n"
   ]
  },
  {
   "cell_type": "markdown",
   "id": "b2c017fc-3120-4e37-9ac2-bd1cddfa18b8",
   "metadata": {},
   "source": [
    "#### **Examples/Test Cases**\n",
    "```\n",
    "What is your name? Sue\n",
    "Hello Sue.\n",
    "\n",
    "Example 2\n",
    "\n",
    "What is your name? Bob!\n",
    "HELLO BOB! WHY ARE WE YELLING?\n",
    "```"
   ]
  },
  {
   "cell_type": "markdown",
   "id": "b7bd73e3-c288-4c4b-bc01-3c89b9e57f86",
   "metadata": {},
   "source": [
    "#### **Data/Algorithm**\n",
    "\n",
    "* Ask user for name and save in `name` variable\n",
    "* If user input ends with '!'\n",
    "    * Return all caps string greeting\n",
    "        * Convert name to all caps when interpolating \n",
    "* Otherwise:\n",
    "    * Return regular greeting"
   ]
  },
  {
   "cell_type": "code",
   "execution_count": 17,
   "id": "8e833403-2f36-4a96-888d-c049fb8876c4",
   "metadata": {},
   "outputs": [
    {
     "name": "stdin",
     "output_type": "stream",
     "text": [
      "What is your name?: alex!\n"
     ]
    },
    {
     "name": "stdout",
     "output_type": "stream",
     "text": [
      "HELLO ALEX! WHY ARE WE YELLING?\n"
     ]
    }
   ],
   "source": [
    "def give_greeting(name_input):\n",
    "    if name_input.endswith(\"!\"):\n",
    "        greeting = f\"HELLO {name_input.upper()} WHY ARE WE YELLING?\"\n",
    "    else:\n",
    "        greeting = f\"Hello {name_input}.\"\n",
    "\n",
    "    return greeting\n",
    "\n",
    "user_input = input(\"What is your name?: \")\n",
    "\n",
    "print(give_greeting(user_input))"
   ]
  },
  {
   "cell_type": "markdown",
   "id": "e76dad3f-4405-4d20-a4c9-8e0331309b72",
   "metadata": {},
   "source": [
    "# **(3) Multiplying Two Numbers**\n",
    "\n",
    "Create a function that takes two arguments, multiplies them together, and returns the result."
   ]
  },
  {
   "cell_type": "markdown",
   "id": "759b8da1-35c4-4a1d-8b9d-d497f6e2bd37",
   "metadata": {},
   "source": [
    "#### **Inputs/Outputs**\n",
    "\n",
    "Input(s):\n",
    "* Two numbers, integers or floats\n",
    "***\n",
    "\n",
    "Output(s):\n",
    "* Number result of multiplying the two input numbers"
   ]
  },
  {
   "cell_type": "markdown",
   "id": "23f331d7-5837-482f-a16d-5a7432119532",
   "metadata": {},
   "source": [
    "#### **Problem Domain**\n",
    "\n",
    "N/A"
   ]
  },
  {
   "cell_type": "markdown",
   "id": "50aaad77-1b29-47d1-bd80-50e95c48be2b",
   "metadata": {},
   "source": [
    "#### **Implicit Requirements**\n",
    "\n",
    "* Nothing that says arguments must be positive\n",
    "    * Therefore should account for negative numbers\n",
    "* Function should return the result, not print\n",
    "* Doesn't specify what type of number\n",
    "    * Therefore should be able to handle integers or floats"
   ]
  },
  {
   "cell_type": "markdown",
   "id": "ca928e57-bcdc-4989-8859-9561db30c806",
   "metadata": {},
   "source": [
    "#### **Clarifying Questions**\n",
    "\n",
    "Do we print the result?\n",
    "* No\n",
    "***\n",
    "Do we have to do anything to accomodate zero, or negative numbers as arguments?\n",
    "* No, python should eb able to handle them without a problem\n",
    "***\n"
   ]
  },
  {
   "cell_type": "markdown",
   "id": "1b805788-40c0-4b36-9862-93eefbe7d66c",
   "metadata": {},
   "source": [
    "#### **Mental Model**\n",
    "\n",
    "Create a function that takes two arguments, which can be either integers or floats.\n",
    "\n",
    "Calculate the value of multiplying these two values together.\n",
    "\n",
    "Return the result."
   ]
  },
  {
   "cell_type": "markdown",
   "id": "3d5faae4-f48e-4eab-898c-0e7b7752d746",
   "metadata": {},
   "source": [
    "#### **Examples/Test Cases**\n",
    "\n",
    "```python\n",
    "print(multiply(5, 3) == 15)  # True\n",
    "print(multiply(0, 3) == 0)   # True\n",
    "print(multiply(5, 0) == 0)   # True \n",
    "print(multiply(-5, 2) == -10)# True\n",
    "print(multiply(5, -3) == -15)# True\n",
    "print(multiply(5.5, 2) == 11)# True\n",
    "print(multiply(3.2, 2.2) == 7.04) # True\n",
    "```"
   ]
  },
  {
   "cell_type": "markdown",
   "id": "5298f975-3aa0-4f59-9ee9-7edfc41afa58",
   "metadata": {},
   "source": [
    "#### **Data/Algorithm**\n",
    "\n",
    "* Function: `multiply`, args: `num1`, `num2`\n",
    "    * Set `output_val` to `num1` multiplied by `num2`\n",
    "    * Return `output_val`"
   ]
  },
  {
   "cell_type": "code",
   "execution_count": 24,
   "id": "e0f558c4-ae37-4f7a-b943-74db7c46ace4",
   "metadata": {},
   "outputs": [],
   "source": [
    "def multiply(num1, num2):\n",
    "    return num1 * num2"
   ]
  },
  {
   "cell_type": "code",
   "execution_count": 27,
   "id": "7979b50e-151a-41db-8eec-dca0399dffb3",
   "metadata": {},
   "outputs": [
    {
     "name": "stdout",
     "output_type": "stream",
     "text": [
      "True\n",
      "True\n",
      "True\n",
      "True\n",
      "True\n",
      "True\n",
      "False\n"
     ]
    }
   ],
   "source": [
    "print(multiply(5, 3) == 15)  # True\n",
    "print(multiply(0, 3) == 0)   # True\n",
    "print(multiply(5, 0) == 0)   # True \n",
    "print(multiply(-5, 2) == -10)# True\n",
    "print(multiply(5, -3) == -15)# True\n",
    "print(multiply(5.5, 2) == 11)# True\n",
    "print(multiply(3.2, 2.2) == 7.04) # True.....Does not print True due to floating point imprecision"
   ]
  },
  {
   "cell_type": "markdown",
   "id": "36e5ebef-a41f-48c7-b18f-bf46ce7f2208",
   "metadata": {},
   "source": [
    "# **(4) Squaring an Argument**\n",
    "\n",
    "Using the multiply function from the \"Multiplying Two Numbers\" exercise, \n",
    "\n",
    "write a function that computes the square of its argument \n",
    "\n",
    "(the square is the result of multiplying a number by itself)."
   ]
  },
  {
   "cell_type": "markdown",
   "id": "f439b7e7-e964-42d6-b8af-afbc884aa9a6",
   "metadata": {},
   "source": [
    "#### **Inputs/Outputs**\n",
    "\n",
    "Input(s):\n",
    "* One number, integer or float\n",
    "***\n",
    "Output(s):\n",
    "* Number, result of the input multiplied by itself"
   ]
  },
  {
   "cell_type": "markdown",
   "id": "995ed22f-8e13-4e35-8461-e78a06d27318",
   "metadata": {},
   "source": [
    "#### **Problem Domain**\n",
    "\n",
    "N/A"
   ]
  },
  {
   "cell_type": "markdown",
   "id": "f1913b8f-b740-40ca-9edd-31a7b30c1348",
   "metadata": {},
   "source": [
    "#### **Implicit Requirements**\n",
    "\n",
    "* Must take  positive and negative numbers as input\n",
    "* Return value, do not print it"
   ]
  },
  {
   "cell_type": "markdown",
   "id": "47a8f6ff-7fca-498a-87a5-6b2329082019",
   "metadata": {},
   "source": [
    "#### **Clarifying Questions**\n",
    "\n",
    "N/A"
   ]
  },
  {
   "cell_type": "markdown",
   "id": "7b754860-0d05-4ad2-bcd5-fde150c4b1a9",
   "metadata": {},
   "source": [
    "#### **Mental Model**\n",
    "\n",
    "Make a function that takes a single number (either integer or float) as argument.\n",
    "\n",
    "Use the previosuly made multiply function to multiply the argument number by itself, \n",
    "\n",
    "thereby returning the square of that number."
   ]
  },
  {
   "cell_type": "markdown",
   "id": "4fe0424a-fd12-4873-8b1d-23c0fe54bbc4",
   "metadata": {},
   "source": [
    "#### **Examples/Test Cases**\n",
    "\n",
    "```python \n",
    "print(square(5) == 25)   # True\n",
    "print(square(-8) == 64)  # True\n",
    "print(square(0) == 0)    # True\n",
    "print(square(-0) == 0)   # True\n",
    "print(square(1) == 1)    # True\n",
    "print(square(2.2) == 4.84) # True\n",
    "```"
   ]
  },
  {
   "cell_type": "markdown",
   "id": "40cbf2e2-c3cc-41af-afd4-6d83075bc620",
   "metadata": {},
   "source": [
    "#### **Data/Algorithm**\n",
    "\n",
    "* Function `square`: input, some number\n",
    "* calculate square by multiplying input by itself using helper function `multiply`\n",
    "* Return the result"
   ]
  },
  {
   "cell_type": "code",
   "execution_count": 29,
   "id": "4f4db44b-5bbe-45cf-9819-4086a6f0ecc0",
   "metadata": {},
   "outputs": [],
   "source": [
    "def square(input_num):\n",
    "    result = multiply(input_num, input_num)\n",
    "\n",
    "    return result"
   ]
  },
  {
   "cell_type": "code",
   "execution_count": 31,
   "id": "e08ef8e7-e78c-4e4d-b05f-ec12d92488fc",
   "metadata": {},
   "outputs": [
    {
     "name": "stdout",
     "output_type": "stream",
     "text": [
      "True\n",
      "True\n",
      "True\n",
      "True\n",
      "True\n",
      "False\n"
     ]
    }
   ],
   "source": [
    "print(square(5) == 25)   # True\n",
    "print(square(-8) == 64)  # True\n",
    "print(square(0) == 0)    # True\n",
    "print(square(-0) == 0)   # True\n",
    "print(square(1) == 1)    # True\n",
    "print(square(2.2) == 4.84) # True  # Does not give True due to floating point imprecision"
   ]
  },
  {
   "cell_type": "markdown",
   "id": "9db45eaa-df99-4aa2-bf63-1b8347923396",
   "metadata": {},
   "source": [
    "#### **Further Exploration**\n",
    "\n",
    "Suppose we want to generalize this function to a \"power to the n\" type function: \n",
    "\n",
    "cubed, to the 4th power, to the 5th, etc. \n",
    "\n",
    "How would we go about doing so while still using the multiply function?"
   ]
  },
  {
   "cell_type": "code",
   "execution_count": 42,
   "id": "2259afa2-887f-42ad-abe0-b362f86528f4",
   "metadata": {},
   "outputs": [],
   "source": [
    "def to_n_power(num, power):\n",
    "    out_num = num\n",
    "    for _ in range(2, power + 1):\n",
    "        out_num = multiply(out_num, num)\n",
    "\n",
    "    return out_num"
   ]
  },
  {
   "cell_type": "code",
   "execution_count": 43,
   "id": "f2b1663e-2050-462d-a8d4-bf0de4291b37",
   "metadata": {},
   "outputs": [
    {
     "name": "stdout",
     "output_type": "stream",
     "text": [
      "8\n",
      "8\n",
      "16\n",
      "27\n"
     ]
    }
   ],
   "source": [
    "print(to_n_power(2, 3))\n",
    "print(to_n_power(2, 3))\n",
    "print(to_n_power(2, 4))\n",
    "print(to_n_power(3, 3))"
   ]
  },
  {
   "cell_type": "markdown",
   "id": "af074742-8cfc-4e9a-97a4-be325f943ac9",
   "metadata": {},
   "source": [
    "# **(5) Floating Point Arithmetic**\n",
    "\n",
    "Write a program that prompts the user for two positive numbers (floating-point), \n",
    "\n",
    "then prints the results of the following operations on those two numbers: \n",
    "\n",
    "addition, subtraction, product, quotient, floor quotient, remainder, and power. Do not worry about validating the input."
   ]
  },
  {
   "cell_type": "markdown",
   "id": "72558da1-e92d-44a2-93e7-39ce83b3bb02",
   "metadata": {},
   "source": [
    "#### **Inputs/Outputs**\n",
    "\n",
    "Input(s):\n",
    "* Two positive floating point numbers\n",
    "***\n",
    "Output(s):\n",
    "* Printing the results, each on a new line, of each operation being performed on those two numbers."
   ]
  },
  {
   "cell_type": "markdown",
   "id": "7cfecb06-564c-4ec4-8806-98e2585bb2b4",
   "metadata": {},
   "source": [
    "#### **Problem Domain**\n",
    "\n",
    "N/A"
   ]
  },
  {
   "cell_type": "markdown",
   "id": "0ddec69b-94cf-4c69-b2c2-74aff2a2dc72",
   "metadata": {},
   "source": [
    "#### **Implicit Requirements**\n",
    "\n",
    "* First number entered is also first in operations\n",
    "* Results should be displayed as floats\n",
    "* Get the two numbers from user input"
   ]
  },
  {
   "cell_type": "markdown",
   "id": "50e10a76-442c-4e4b-a602-e6eecc8e8b8e",
   "metadata": {},
   "source": [
    "#### **Clarifying Questions**\n",
    "\n",
    "* How do we deal with floating point imprecision?\n",
    "    * We leave the imprecision in the results\n",
    "\n",
    "* Should we round the results?\n",
    "    * No, leave them as they are calculated"
   ]
  },
  {
   "cell_type": "markdown",
   "id": "6f25ca64-a7df-4d08-ae72-fb2ad3b42012",
   "metadata": {},
   "source": [
    "#### **Mental Model**\n",
    "\n",
    "The user will input two floating point numbers.\n",
    "\n",
    "We must print the string version of each possible operation,\n",
    "\n",
    "with the number which was input first opn the left hand side of the operation."
   ]
  },
  {
   "cell_type": "markdown",
   "id": "e0dad564-7144-4c19-b02e-509f39f315c7",
   "metadata": {},
   "source": [
    "#### **Examples/Test Cases**\n",
    "\n",
    "```python\n",
    "==> Enter the first number:\n",
    "3.141592\n",
    "==> Enter the second number:\n",
    "2.718282\n",
    "==> 3.141592 + 2.718282 = 5.859811\n",
    "==> 3.141592 - 2.718282 = 0.42324699999999993\n",
    "==> 3.141592 * 2.718282 = 8.539561733178\n",
    "==> 3.141592 / 2.718282 = 1.1557038600115808\n",
    "==> 3.141592 // 2.718282 = 1.0\n",
    "==> 3.141592 % 2.718282 = 0.42324699999999993\n",
    "==> 3.141592 ** 2.718282 = 22.45792517468373\n",
    "```"
   ]
  },
  {
   "cell_type": "markdown",
   "id": "88855a4c-053a-4518-851f-c36a087d1742",
   "metadata": {},
   "source": [
    "#### **Data/Algorithm**\n",
    "\n",
    "* Get user to input two floating point numbers\n",
    "* With each one on a sperate line\n",
    "    * Print the sum literal and the result "
   ]
  },
  {
   "cell_type": "code",
   "execution_count": 47,
   "id": "7ae191d9-fd98-4121-b6eb-143a9891d5cd",
   "metadata": {},
   "outputs": [
    {
     "name": "stdin",
     "output_type": "stream",
     "text": [
      "Enter the first number:  3.141592\n",
      "Enter the second number:  2.718282\n"
     ]
    },
    {
     "name": "stdout",
     "output_type": "stream",
     "text": [
      "==> 3.141592 + 2.718282 = 5.859874\n",
      "==> 3.141592 - 2.718282 = 0.4233100000000003\n",
      "==> 3.141592 * 2.718282 = 8.539732984944001\n",
      "==> 3.141592 / 2.718282 = 1.1557270364149121\n",
      "==> 3.141592 // 2.718282 = 1.0\n",
      "==> 3.141592 % 2.718282 = 0.4233100000000003\n",
      "==> 3.141592 ** 2.718282 = 22.45914942746313\n"
     ]
    }
   ],
   "source": [
    "first = float(input(\"Enter the first number: \"))\n",
    "second = float(input(\"Enter the second number: \"))\n",
    "\n",
    "print(f\"==> {first} + {second} = {first + second}\")\n",
    "print(f\"==> {first} - {second} = {first - second}\")\n",
    "print(f\"==> {first} * {second} = {first * second}\")\n",
    "print(f\"==> {first} / {second} = {first / second}\")\n",
    "print(f\"==> {first} // {second} = {first // second}\")\n",
    "print(f\"==> {first} % {second} = {first % second}\")\n",
    "print(f\"==> {first} ** {second} = {first ** second}\")"
   ]
  },
  {
   "cell_type": "markdown",
   "id": "e6dc9c47-7698-43f6-8dbb-a07a383b5c82",
   "metadata": {},
   "source": [
    "# **(6) The End is Near But Not Here**\n",
    "\n",
    "Write a function that returns the next to last word in the string argument.\n",
    "\n",
    "Words are any sequence of non-blank characters.\n",
    "\n",
    "You may assume that the input string will always contain at least two words.\n"
   ]
  },
  {
   "cell_type": "markdown",
   "id": "3ea40646-f008-4abf-9ce1-28b26d5ee2c8",
   "metadata": {},
   "source": [
    "#### **Inputs/Outputs**\n",
    "\n",
    "Input(s):\n",
    "* String containing a sentence of at least 2 words\n",
    "***\n",
    "Output(s):\n",
    "* String of second to last word of the input string"
   ]
  },
  {
   "cell_type": "markdown",
   "id": "5bd06ccc-5693-4b5c-830a-43ab122d2a0a",
   "metadata": {},
   "source": [
    "#### **Problem Domain**\n",
    "\n",
    "N/A"
   ]
  },
  {
   "cell_type": "markdown",
   "id": "f6bffcde-5aa3-44bd-a49a-f1bf2e45e42e",
   "metadata": {},
   "source": [
    "#### **Implicit Requirements**\n",
    "\n",
    "* Capital letters make no difference\n",
    "* Return second to last word, don't print it."
   ]
  },
  {
   "cell_type": "markdown",
   "id": "c01ca73d-629e-462d-981b-33a063bc028a",
   "metadata": {},
   "source": [
    "#### **Clarifying Questions**\n",
    "\n",
    "What do we do if there are multiple spaces between words?\n",
    "* No matter how many spaces, treat the string the same as if there was a single space\n"
   ]
  },
  {
   "cell_type": "markdown",
   "id": "ee58c67b-e189-45b7-b382-a2b66ac2cef5",
   "metadata": {},
   "source": [
    "#### **Mental Model**\n",
    "\n",
    "The input will be a string of undetermined length containing at least two words separated by  speace(s).\n",
    "\n",
    "We want to return the second to last word."
   ]
  },
  {
   "cell_type": "markdown",
   "id": "b57ae9f2-5bfa-43b7-9099-8771f4226ed5",
   "metadata": {},
   "source": [
    "#### **Examples/Test Cases**\n",
    "\n",
    "```python\n",
    "print(penultimate(\"last word\") == \"last\")\n",
    "print(penultimate(\"Launch School is great!\") == \"is\")\n",
    "```"
   ]
  },
  {
   "cell_type": "markdown",
   "id": "a59e9deb-d95b-4c88-8d47-7ecc5b54a49d",
   "metadata": {},
   "source": [
    "#### **Data/Algorithm**\n",
    "\n",
    "* Function, `penultimate`: input: string containing at least two words\n",
    "    * Split string into list of words: `word_list`\n",
    "        * Treat multiple spaces the same as single space\n",
    "    * Return second to last element of `word_list`"
   ]
  },
  {
   "cell_type": "code",
   "execution_count": 3,
   "id": "b4306601-9306-451d-a38d-799bcc1e18cd",
   "metadata": {},
   "outputs": [],
   "source": [
    "def penultimate(input_str):\n",
    "    word_list = input_str.split()\n",
    "\n",
    "    return word_list[-2]"
   ]
  },
  {
   "cell_type": "code",
   "execution_count": 4,
   "id": "4a39aabf-9f87-44ed-86c3-e4bf2c2e8507",
   "metadata": {},
   "outputs": [
    {
     "name": "stdout",
     "output_type": "stream",
     "text": [
      "True\n",
      "True\n"
     ]
    }
   ],
   "source": [
    "print(penultimate(\"last word\") == \"last\")\n",
    "print(penultimate(\"Launch School is great!\") == \"is\")"
   ]
  },
  {
   "cell_type": "markdown",
   "id": "fa3b2230-9e58-48ca-9fbd-2ccd7f6f145c",
   "metadata": {},
   "source": [
    "## **Further Exploration**\n",
    "\n",
    "Write a function that returns the middle word of a phrase or sentence. "
   ]
  },
  {
   "cell_type": "markdown",
   "id": "d35a7c08-bd56-4e1d-ad80-8658a07b4837",
   "metadata": {},
   "source": [
    "#### **Data/Algorithm**\n",
    "\n",
    "Odd, floor divison of length\n",
    "\n",
    "length = 3\n",
    "\n",
    "return index 1\n",
    "\n",
    "\n",
    "\n",
    "\n",
    "Even, return two middle elements\n",
    "\n",
    "0, 1, 2, 3, 4, 5\n",
    "\n",
    "length = 6\n",
    "\n",
    "return indexes len /2, (len / 2) -1\n",
    "\n",
    "* If length is odd\n",
    "    * return index of floor division\n",
    "* If length is even\n",
    "    * Return slice of containign len half -1, and length half"
   ]
  },
  {
   "cell_type": "code",
   "execution_count": 19,
   "id": "8ba6f302-bc77-43f9-bf0c-7145e8959c66",
   "metadata": {},
   "outputs": [],
   "source": [
    "def middle_elem(input_str):\n",
    "    word_list = input_str.split()\n",
    "    list_length = len(word_list)\n",
    "\n",
    "    if list_length % 2 == 1:\n",
    "        return word_list[list_length // 2]\n",
    "\n",
    "    else:\n",
    "        begin_idx = int((list_length / 2 ) - 1)\n",
    "        end_idx = int(begin_idx + 2)\n",
    "\n",
    "        print(begin_idx, end_idx)\n",
    "        return \" \".join(word_list[begin_idx:end_idx])"
   ]
  },
  {
   "cell_type": "code",
   "execution_count": 21,
   "id": "d67a5de2-018b-4587-bd56-18875fc59b48",
   "metadata": {},
   "outputs": [
    {
     "name": "stdout",
     "output_type": "stream",
     "text": [
      "1 3\n",
      "how are\n",
      "are\n",
      "like\n",
      "Hello\n"
     ]
    }
   ],
   "source": [
    "print(middle_elem(\"Hello how are you\"))\n",
    "print(middle_elem(\"The boys    are very good\"))\n",
    "print(middle_elem(\"I! DOnt think like that very muuch\"))\n",
    "print(middle_elem(\"Hello\"))"
   ]
  },
  {
   "cell_type": "markdown",
   "id": "bd3350c9-a2be-4a49-981d-1033895a629f",
   "metadata": {},
   "source": [
    "# **(7) Exclusive Or**\n",
    "\n",
    "The or operator returns a truthy value if either or both of its operands are truthy, \n",
    "\n",
    "a falsy value if both operands are falsy. \n",
    "\n",
    "The and operator returns a truthy value if both of its operands are truthy, and a falsy value if either operand is falsy. \n",
    "\n",
    "This works great until you need only one of two conditions to be truthy, the so-called exclusive or, also known as xor (pronounced \"ECKS-or\").\n",
    "\n",
    "In this exercise, you will write an xor function that takes two arguments, and returns True if exactly one of its arguments is truthy, False otherwise."
   ]
  },
  {
   "cell_type": "markdown",
   "id": "ab89625e-7bf6-426c-9e9a-4d8fe7f5d579",
   "metadata": {},
   "source": [
    "#### **Inputs/Outputs**\n",
    "\n",
    "Input(s):\n",
    "* Two arguments of any type\n",
    "\n",
    "Output(s):\n",
    "* Boolean representing if exactly one of the two arguments is truthy"
   ]
  },
  {
   "cell_type": "markdown",
   "id": "77ea971b-efc8-4720-a3c7-c3ed4bcaab48",
   "metadata": {},
   "source": [
    "#### **Problem Domain**\n",
    "\n",
    "N/A"
   ]
  },
  {
   "cell_type": "markdown",
   "id": "3415557e-bdcd-4c96-9f3b-56cd4a9aef93",
   "metadata": {},
   "source": [
    "#### **Implicit Requirements**\n",
    "\n",
    "* Work with all kinds of values\n",
    "    * Work off truthiness, not whether they are Booolean `True` or `False`\n"
   ]
  },
  {
   "cell_type": "markdown",
   "id": "42082e2e-b95f-4483-bf47-633a1a1dfc90",
   "metadata": {},
   "source": [
    "#### **Clarifying Questions**\n",
    "\n",
    "N/A"
   ]
  },
  {
   "cell_type": "markdown",
   "id": "ee452a85-cfe0-4fa4-bc1a-c0eb1512ef19",
   "metadata": {
    "jp-MarkdownHeadingCollapsed": true
   },
   "source": [
    "#### **Mental Model**\n",
    "\n",
    "Create a function that takes two arguments of any value.\n",
    "\n",
    "Return True if exactly one argument is truthy, otherwise return false."
   ]
  },
  {
   "cell_type": "markdown",
   "id": "30b02fbc-d7c1-42e6-83fd-82b723ad6aed",
   "metadata": {},
   "source": [
    "#### **Examples/Test cases**\n",
    "\n",
    "```python\n",
    "print(xor(5, 0) == True)\n",
    "print(xor(False, True) == True)\n",
    "print(xor(1, 1) == False)\n",
    "print(xor(True, True) == False)\n",
    "```"
   ]
  },
  {
   "cell_type": "markdown",
   "id": "b8e0125f-c060-4aa2-995e-6e176a272c14",
   "metadata": {},
   "source": [
    "#### **Data/Algorithm**\n",
    "\n",
    "* `xor` function, Two arguments of any type\n",
    "* If both arguments are truthy\n",
    "    * Return `False`\n",
    "* Or statement: if one is truthy (not possible for both anymore)\n",
    "    * Return `True`\n",
    " Return `False`"
   ]
  },
  {
   "cell_type": "code",
   "execution_count": 23,
   "id": "29100a6e-4816-4236-a955-70aac2a63ddf",
   "metadata": {},
   "outputs": [],
   "source": [
    "def xor(arg1, arg2):\n",
    "    if arg1 and arg2:\n",
    "        return False\n",
    "    if arg1 or arg2:\n",
    "        return True\n",
    "\n",
    "    return False"
   ]
  },
  {
   "cell_type": "code",
   "execution_count": 24,
   "id": "986c63f0-001d-4109-8e2e-e83324146a6a",
   "metadata": {},
   "outputs": [
    {
     "name": "stdout",
     "output_type": "stream",
     "text": [
      "True\n",
      "True\n",
      "True\n",
      "True\n"
     ]
    }
   ],
   "source": [
    "print(xor(5, 0) == True)\n",
    "print(xor(False, True) == True)\n",
    "print(xor(1, 1) == False)\n",
    "print(xor(True, True) == False)"
   ]
  },
  {
   "cell_type": "markdown",
   "id": "70d5c188-dd94-4334-b008-469e40f1a59b",
   "metadata": {},
   "source": [
    "# **(8) Odd Lists**\n",
    "\n",
    "Write a function that returns a list that contains every other element of a list that is passed in as an argument. \n",
    "\n",
    "The values in the returned list should be those values that are in the 1st, 3rd, 5th, and so on elements of the argument list."
   ]
  },
  {
   "cell_type": "markdown",
   "id": "23bf91f3-b1f3-475f-93d0-d67f9ae0a90d",
   "metadata": {},
   "source": [
    "#### **Inputs/Outputs**\n",
    "\n",
    "Input:\n",
    "* List containing elements of any type\n",
    "\n",
    "Output:\n",
    "* List containing only odd numbered elements of input list"
   ]
  },
  {
   "cell_type": "markdown",
   "id": "44f809e7-f7c0-445f-a206-d93b233e2a52",
   "metadata": {},
   "source": [
    "#### **Problem Domain**\n",
    "\n",
    "* Odd elements have an even index number"
   ]
  },
  {
   "cell_type": "markdown",
   "id": "57d47ce7-6fb2-4343-99df-d4cc5e924d30",
   "metadata": {},
   "source": [
    "#### **Implicit Requirements**\n",
    "\n",
    "* Empty list returns empty list\n",
    "* List containing one element returns the same list\n",
    "* Element type makes no difference"
   ]
  },
  {
   "cell_type": "markdown",
   "id": "d79e259b-514f-4b2c-a481-5b9da78dbf0e",
   "metadata": {},
   "source": [
    "#### **Clarifying Questions**\n",
    "\n",
    "N/A"
   ]
  },
  {
   "cell_type": "markdown",
   "id": "423a1a1a-289d-4617-9d0a-4fbfa1370ee5",
   "metadata": {},
   "source": [
    "#### **Mental Model**\n",
    "\n",
    "Take a list of any size as input. \n",
    "\n",
    "Return a list containing only odd numbered elements of the input list.\n",
    "\n",
    "If list is empty, return an empty list."
   ]
  },
  {
   "cell_type": "markdown",
   "id": "1047baef-575b-4229-85a5-ffe4f5cd3fd1",
   "metadata": {},
   "source": [
    "#### **Examples/Test Cases**\n",
    "\n",
    "```python\n",
    "print(oddities([2, 3, 4, 5, 6]) == [2, 4, 6])  # True\n",
    "print(oddities([1, 2, 3, 4]) == [1, 3])        # True\n",
    "print(oddities([\"abc\", \"def\"]) == ['abc'])     # True\n",
    "print(oddities([123]) == [123])                # True\n",
    "print(oddities([]) == [])                      # True\n",
    "```"
   ]
  },
  {
   "cell_type": "markdown",
   "id": "7ad4bec9-65a3-4808-a895-db75dcbda7fe",
   "metadata": {},
   "source": [
    "#### **Data/Algorithm**\n",
    "* Set `output_list` to empty list\n",
    "* If length of input list is 0, return `output_list`\n",
    "* Iterate numbers 0 through length of list - 1, with step of 2\n",
    "    * Append the value of inpout_list aat iteration value to output_list\n",
    "* Return `output_list`"
   ]
  },
  {
   "cell_type": "code",
   "execution_count": 25,
   "id": "dcb48d87-5912-411a-a790-274e584a7dae",
   "metadata": {},
   "outputs": [],
   "source": [
    "def oddities(input_list):\n",
    "    output_list = []\n",
    "\n",
    "    if not input_list:\n",
    "        return output_list\n",
    "\n",
    "    for idx in range(0, len(input_list), 2):\n",
    "        output_list.append(input_list[idx])\n",
    "\n",
    "    return output_list"
   ]
  },
  {
   "cell_type": "code",
   "execution_count": 26,
   "id": "4d1d64dc-8c3e-4a54-8357-600007dcbc34",
   "metadata": {},
   "outputs": [
    {
     "name": "stdout",
     "output_type": "stream",
     "text": [
      "True\n",
      "True\n",
      "True\n",
      "True\n",
      "True\n"
     ]
    }
   ],
   "source": [
    "print(oddities([2, 3, 4, 5, 6]) == [2, 4, 6])  # True\n",
    "print(oddities([1, 2, 3, 4]) == [1, 3])        # True\n",
    "print(oddities([\"abc\", \"def\"]) == ['abc'])     # True\n",
    "print(oddities([123]) == [123])                # True\n",
    "print(oddities([]) == [])                      # True"
   ]
  },
  {
   "cell_type": "markdown",
   "id": "2334e5bc-9d0f-4c90-adb0-b6bcaaf70978",
   "metadata": {},
   "source": [
    "#### **Further Exploration**\n",
    "\n",
    "Write a companion function that returns the 2nd, 4th, 6th, and so on elements of a list."
   ]
  },
  {
   "cell_type": "markdown",
   "id": "29233bd7-a4ae-4ae3-8a5e-7dcd1b2fd77d",
   "metadata": {},
   "source": [
    "#### **Data/Algorithm**\n",
    "\n",
    "Use list comprehension, and `enumerate` function to make new list from elements in original list that have odd index."
   ]
  },
  {
   "cell_type": "code",
   "execution_count": 32,
   "id": "1b9e696c-d25e-44d0-816e-207eac6d0774",
   "metadata": {},
   "outputs": [],
   "source": [
    "def even_elems(input_list):\n",
    "    output_list = [num for index, num in enumerate(input_list) if index % 2]\n",
    "    return output_list"
   ]
  },
  {
   "cell_type": "code",
   "execution_count": 33,
   "id": "dd79434f-c015-4a4e-9612-f2faff834065",
   "metadata": {},
   "outputs": [
    {
     "data": {
      "text/plain": [
       "[2, 4, 6]"
      ]
     },
     "execution_count": 33,
     "metadata": {},
     "output_type": "execute_result"
    }
   ],
   "source": [
    "even_elems([1, 2, 3, 4, 5, 6])"
   ]
  },
  {
   "cell_type": "markdown",
   "id": "66debc57-cccd-4df2-ae87-714d60eea65d",
   "metadata": {},
   "source": [
    "# **(9) How Old is Teddy?**\n",
    "\n",
    "Build a program that randomly generates and prints Teddy's age. \n",
    "\n",
    "To get the age, you should generate a random number between 20 and 100, inclusive."
   ]
  },
  {
   "cell_type": "markdown",
   "id": "1e458cfa-8aae-42f3-9be1-b92ba06802fe",
   "metadata": {},
   "source": [
    "#### **Inputs/Outputs**\n",
    "\n",
    "Input(s):\n",
    "* No input\n",
    "\n",
    "Output(s):\n",
    "* Setence stating Teddy's age, with the age being a randomly generated number between 20 and 100 inclusive"
   ]
  },
  {
   "cell_type": "markdown",
   "id": "42e2dcde-a5b7-4f2d-9f05-1b9620355953",
   "metadata": {},
   "source": [
    "#### **Problem Domain**\n",
    "\n",
    "* How do we get a random number?\n",
    "    * Using the `random` module, `randint` function"
   ]
  },
  {
   "cell_type": "markdown",
   "id": "e1cc2197-3669-4443-82fe-ad746497b85c",
   "metadata": {},
   "source": [
    "#### **Implicit Requirements**\n",
    "\n",
    "N/A"
   ]
  },
  {
   "cell_type": "markdown",
   "id": "52878ba4-2ec0-49a6-a2f4-479232a2e061",
   "metadata": {},
   "source": [
    "#### **Clarifying Questions**\n",
    "\n",
    "N/A"
   ]
  },
  {
   "cell_type": "markdown",
   "id": "54c57815-c768-42eb-ac36-8c66732a3132",
   "metadata": {},
   "source": [
    "#### **Mental Model**\n",
    "\n",
    "Generate a random number between 20 and 100 inclusive. Print a message saying that teddy is that age."
   ]
  },
  {
   "cell_type": "markdown",
   "id": "3c300dd1-906b-46a2-a196-8ffead75b640",
   "metadata": {},
   "source": [
    "#### **Examples/Test Cases**\n",
    "\n",
    "```python\n",
    "Teddy is 69 years old!\n",
    "```"
   ]
  },
  {
   "cell_type": "markdown",
   "id": "67e7a93e-cce2-4e08-9d03-8ec29ad21fdb",
   "metadata": {},
   "source": [
    "#### **Data/Algorithm**\n",
    "\n",
    "Use `random`, `randint` function to generate random age.\n",
    "\n",
    "Use `print` and string interpolation to print the message."
   ]
  },
  {
   "cell_type": "code",
   "execution_count": 39,
   "id": "8083521d-17a7-4822-9241-b2ebebb2735e",
   "metadata": {},
   "outputs": [
    {
     "name": "stdout",
     "output_type": "stream",
     "text": [
      "Teddy is 50 years old\n"
     ]
    }
   ],
   "source": [
    "import random\n",
    "\n",
    "random_age = random.randint(20, 100)\n",
    "\n",
    "print(f\"Teddy is {random_age} years old\")\n"
   ]
  },
  {
   "cell_type": "markdown",
   "id": "5c44f307-a113-405f-a242-9cde75a93ccb",
   "metadata": {},
   "source": [
    "### **Further Exploration**\n",
    "\n",
    "Modify this program to ask for a name, then print the age for that person. \n",
    "    \n",
    "For an extra challenge, use \"Teddy\" as the name if no name is entered."
   ]
  },
  {
   "cell_type": "code",
   "execution_count": 40,
   "id": "f161994b-537a-42a8-b11a-e8339097347d",
   "metadata": {},
   "outputs": [
    {
     "name": "stdin",
     "output_type": "stream",
     "text": [
      "What is your name:  Seb\n"
     ]
    },
    {
     "name": "stdout",
     "output_type": "stream",
     "text": [
      "Seb is 76 years old\n"
     ]
    }
   ],
   "source": [
    "import random\n",
    "\n",
    "name = input(\"What is your name: \")\n",
    "\n",
    "if not name:\n",
    "    name = \"Teddy\"\n",
    "\n",
    "random_age = random.randint(20, 100)\n",
    "\n",
    "print(f\"{name} is {random_age} years old\")"
   ]
  },
  {
   "cell_type": "markdown",
   "id": "4dfd08c6-d6c9-4cee-9faf-50933b45be13",
   "metadata": {},
   "source": [
    "# **(10) When Will I Retire?** \n",
    "\n",
    "Build a program that displays when the user will retire and how many years she has to work till retirement."
   ]
  },
  {
   "cell_type": "markdown",
   "id": "3eaad1ac-1527-4faf-b998-68bc872f6dcb",
   "metadata": {},
   "source": [
    "#### **Input/Outputs**\n",
    "\n",
    "Input:\n",
    "* User age\n",
    "* Retirement age\n",
    "***\n",
    "Output:\n",
    "* Printed string statingg  the current year, what year they will retire\n",
    "* How many years of work they have left"
   ]
  },
  {
   "cell_type": "markdown",
   "id": "f65b22d2-607c-4287-a2d3-be49a401f62f",
   "metadata": {},
   "source": [
    "#### **Problem Domain**\n",
    "\n",
    "Years to retire = user age - retirement age\n",
    "\n",
    "Current years is 2025. Retirement year 2025 + years to retire"
   ]
  },
  {
   "cell_type": "markdown",
   "id": "9b005244-147e-46c1-a4d1-1889ca608e5a",
   "metadata": {},
   "source": [
    "#### **Implicit Requirements**\n",
    "\n",
    "N/A"
   ]
  },
  {
   "cell_type": "markdown",
   "id": "2ddacd31-fd5b-4bef-addb-dfffb5139a02",
   "metadata": {},
   "source": [
    "#### **Clarifying Questions**\n",
    "\n",
    "N/A"
   ]
  },
  {
   "cell_type": "markdown",
   "id": "7e2425a3-d746-4ee7-b0c1-083e0a38a2f2",
   "metadata": {},
   "source": [
    "#### **Mental Model**\n",
    "\n",
    "Get input from user, their current age and the age they want to retire at.\n",
    "\n",
    "From this create the desired string...."
   ]
  },
  {
   "cell_type": "markdown",
   "id": "b50096d7-6ec8-4b93-84a2-90ca70157ae6",
   "metadata": {},
   "source": [
    "#### **Examples/Test Cases**\n",
    "\n",
    "```python\n",
    "What is your age? 30\n",
    "At what age would you like to retire? 70\n",
    "\n",
    "It's 2024. You will retire in 2064.\n",
    "You have only 40 years of work to go!\n",
    "```"
   ]
  },
  {
   "cell_type": "markdown",
   "id": "628cf316-4c1b-43f4-98ac-801c3602b5bc",
   "metadata": {},
   "source": [
    "#### **Data/Algorithm**\n",
    "\n",
    "* Get age and retirment from user.\n",
    "    * Convert to integers\n",
    " \n",
    "* set `years_to_go` to retirement_age - current_age\n",
    "\n",
    "* Use the variables to print string"
   ]
  },
  {
   "cell_type": "code",
   "execution_count": 41,
   "id": "88cde835-77ea-4710-839a-ab26e3eecdb8",
   "metadata": {},
   "outputs": [
    {
     "name": "stdin",
     "output_type": "stream",
     "text": [
      "What is your age:  30\n",
      "What age do you want to retire?:  70\n"
     ]
    },
    {
     "name": "stdout",
     "output_type": "stream",
     "text": [
      "It's 2025. You will retire in 2065\n",
      "You have only 40 years  of work to go!\n"
     ]
    }
   ],
   "source": [
    "user_age = int(input(\"What is your age: \"))\n",
    "desired_retirement_age = int(input(\"What age do you want to retire?: \"))\n",
    "\n",
    "years_to_retirement = desired_retirement_age - user_age\n",
    "\n",
    "print(f\"It's 2025. You will retire in {2025 + years_to_retirement}\")\n",
    "print(f\"You have only {years_to_retirement} years  of work to go!\")"
   ]
  },
  {
   "cell_type": "markdown",
   "id": "10181ff0-69fc-43e5-af5a-250ca6d98a9c",
   "metadata": {},
   "source": [
    "# **(11) Get Middle Character**\n",
    "\n",
    "Write a function that takes a non-empty string argument and returns the middle character(s) of the string. \n",
    "\n",
    "If the string has an odd length, you should return exactly one character. \n",
    "\n",
    "If the string has an even length, you should return exactly two characters."
   ]
  },
  {
   "cell_type": "markdown",
   "id": "d902c803-17f4-4d2b-8249-ac935515107c",
   "metadata": {},
   "source": [
    "#### **Inputs/Outputs**\n",
    "\n",
    "Input:\n",
    "* Single non-empty string\n",
    "\n",
    "Output:\n",
    "* Middle character(s) of string\n",
    "    * 1 character if string length is odd\n",
    "    * 2 characters if string length is even"
   ]
  },
  {
   "cell_type": "markdown",
   "id": "67169c28-e605-45e6-a72f-dacafc200b96",
   "metadata": {},
   "source": [
    "#### **Problem Domain**\n",
    "\n",
    "N/A"
   ]
  },
  {
   "cell_type": "markdown",
   "id": "98c7e7e9-0a6c-4abf-a022-fba24df98102",
   "metadata": {},
   "source": [
    "#### **Implicit Requirements**\n",
    "\n",
    "* Spaces/symbols count as characters\n",
    "* String of length 1 returns string of length 1\n",
    "* Return the substring instead of printing"
   ]
  },
  {
   "cell_type": "markdown",
   "id": "280e6c1b-9c37-4710-967d-96ff568c0985",
   "metadata": {},
   "source": [
    "#### **Clarifying Questions**\n",
    "\n",
    "* How do we access the middle element of a string with an odd length?\n",
    "    * Floor division of length\n",
    "    * [1, 2, 3]. Length: 3. Center index: 1,    3 // 2 == 1\n",
    "\n",
    "* How do we access the middle two elements of a string with an even length?\n",
    "    * [0, 1, 2, 3]\n",
    "    * Length 4.... We want to access indexes 1 and 2\n",
    "    * Slice beginning idx 1. (length / 2) - 1\n",
    "    * Slice ending (as it is not included): (length / 2) + 1 \n"
   ]
  },
  {
   "cell_type": "markdown",
   "id": "77df7645-77bf-4bec-85b0-ae26e1fe5378",
   "metadata": {},
   "source": [
    "#### **Mental Model**\n",
    "\n",
    "Take a string of at least length 1 as input. \n",
    "\n",
    "If length is odd return the middle character as a string.\n",
    "\n",
    "If length is even return the middle two characters as string."
   ]
  },
  {
   "cell_type": "markdown",
   "id": "5094d19c-96be-4b6f-b422-d192e4c27469",
   "metadata": {},
   "source": [
    "#### **Examples/Test Cases**\n",
    "\n",
    "```python\n",
    "print(center_of('I Love Python!!!') == \"Py\")    # True\n",
    "print(center_of('Launch School') == \" \")        # True\n",
    "print(center_of('Launchschool') == \"hs\")        # True\n",
    "print(center_of('Launch') == \"un\")              # True\n",
    "print(center_of('Launch School is #1') == \"h\")  # True\n",
    "print(center_of('x') == \"x\")                    # True\n",
    "```"
   ]
  },
  {
   "cell_type": "markdown",
   "id": "90b307ff-0295-49be-8f68-0d3339e20498",
   "metadata": {},
   "source": [
    "#### **Data/Algorithm**\n",
    "\n",
    "* `center_of` function: input is a string: `input_str`\n",
    "    * Set `str_len` to length of `input_str`\n",
    "    * if `str_len` is odd:\n",
    "        * Return slice of string at index: floor division of length by 2\n",
    "    * if `str_len` is even:\n",
    "        * Set `begin_idx` to (length / 2) - 1\n",
    "        * Set `end_index` to (length / 2) + 1\n",
    "        * Use these to return desired substring"
   ]
  },
  {
   "cell_type": "code",
   "execution_count": 45,
   "id": "f75f99fb-95f0-4b37-a835-5c57d4ce973a",
   "metadata": {},
   "outputs": [],
   "source": [
    "def center_of(input_str):\n",
    "    str_len = len(input_str)\n",
    "\n",
    "    if (str_len % 2) == 1:\n",
    "        return input_str[str_len // 2]\n",
    "\n",
    "    else:\n",
    "        begin_slice = int((str_len / 2)) - 1\n",
    "        end_slice = int((str_len / 2)) + 1\n",
    "\n",
    "        return input_str[begin_slice:end_slice]"
   ]
  },
  {
   "cell_type": "code",
   "execution_count": 46,
   "id": "952bdd27-e0de-456a-a939-035ca606894e",
   "metadata": {},
   "outputs": [
    {
     "name": "stdout",
     "output_type": "stream",
     "text": [
      "True\n",
      "True\n",
      "True\n",
      "True\n",
      "True\n",
      "True\n"
     ]
    }
   ],
   "source": [
    "print(center_of('I Love Python!!!') == \"Py\")    # True\n",
    "print(center_of('Launch School') == \" \")        # True\n",
    "print(center_of('Launchschool') == \"hs\")        # True\n",
    "print(center_of('Launch') == \"un\")              # True\n",
    "print(center_of('Launch School is #1') == \"h\")  # True\n",
    "print(center_of('x') == \"x\")                    # True"
   ]
  },
  {
   "cell_type": "markdown",
   "id": "0af1b603-10bc-4af2-89ec-f86cd39eaacb",
   "metadata": {},
   "source": [
    "# **(12) Always Return Negative**\n",
    "\n",
    "Write a function that takes a number as an argument. \n",
    "\n",
    "If the argument is a positive number, return the negative of that number. \n",
    "\n",
    "If the argument is a negative number, return it as-is."
   ]
  },
  {
   "cell_type": "markdown",
   "id": "d9b3571e-6db1-4dd2-98eb-befcf16b0923",
   "metadata": {},
   "source": [
    "#### **Inputs/Outputs**\n",
    "\n",
    "Input(s):\n",
    "* Single number, float or int, negative or positive.\n",
    "\n",
    "Output(s):\n",
    "* Single number, always negative"
   ]
  },
  {
   "cell_type": "markdown",
   "id": "07910bd0-71c3-4cad-914a-15a686d8482e",
   "metadata": {},
   "source": [
    "#### **Problem Domain**\n",
    "\n",
    "* How do you turn a postive number to its negative equivalent?\n",
    "    * Multiply by negative 1\n",
    " \n"
   ]
  },
  {
   "cell_type": "markdown",
   "id": "6469673a-7c08-46b8-95a6-b66b76d444f4",
   "metadata": {},
   "source": [
    "#### **Implicit Requirewments**\n",
    "\n",
    "* If zero is the input return 0"
   ]
  },
  {
   "cell_type": "markdown",
   "id": "c052eb80-b97c-416e-94d3-51e78fc33930",
   "metadata": {},
   "source": [
    "#### **Clarifying Questions**\n",
    "\n",
    "N/A"
   ]
  },
  {
   "cell_type": "markdown",
   "id": "cfff139b-32d9-4e7a-be56-9c8ed41b6bae",
   "metadata": {},
   "source": [
    "#### **Mental Model**\n",
    "\n",
    "Take a single number as input and return the negative version of that number."
   ]
  },
  {
   "cell_type": "markdown",
   "id": "d1b54d01-834b-4a4a-8f1e-c05fb4f7a852",
   "metadata": {},
   "source": [
    "#### **Examples/Test Cases**\n",
    "\n",
    "```python\n",
    "print(negative(5) == -5)      # True\n",
    "print(negative(-3) == -3)     # True\n",
    "print(negative(0) == 0)       # True\n",
    "```"
   ]
  },
  {
   "cell_type": "markdown",
   "id": "6f4ef7d4-a7cf-428f-a208-625b090a528d",
   "metadata": {},
   "source": [
    "#### **Data/Algorithm**\n",
    "\n",
    "* Function `negative`: input, number\n",
    "    * if input_num is zero or less:\n",
    "        * return input_num\n",
    "    * Otherwise return input_num multiplied by -1   "
   ]
  },
  {
   "cell_type": "code",
   "execution_count": 50,
   "id": "e70cbdfa-76da-4c92-8447-446eb449f550",
   "metadata": {},
   "outputs": [],
   "source": [
    "def negative(input_num):\n",
    "    if input_num <= 0:\n",
    "        return input_num\n",
    "    else:\n",
    "        return input_num * -1"
   ]
  },
  {
   "cell_type": "code",
   "execution_count": 51,
   "id": "ead63332-4bb9-438c-b98a-3be9a7d142c5",
   "metadata": {},
   "outputs": [
    {
     "name": "stdout",
     "output_type": "stream",
     "text": [
      "True\n",
      "True\n",
      "True\n"
     ]
    }
   ],
   "source": [
    "print(negative(5) == -5)      # True\n",
    "print(negative(-3) == -3)     # True\n",
    "print(negative(0) == 0)       # True"
   ]
  }
 ],
 "metadata": {
  "kernelspec": {
   "display_name": "Python 3 (ipykernel)",
   "language": "python",
   "name": "python3"
  },
  "language_info": {
   "codemirror_mode": {
    "name": "ipython",
    "version": 3
   },
   "file_extension": ".py",
   "mimetype": "text/x-python",
   "name": "python",
   "nbconvert_exporter": "python",
   "pygments_lexer": "ipython3",
   "version": "3.12.3"
  }
 },
 "nbformat": 4,
 "nbformat_minor": 5
}
