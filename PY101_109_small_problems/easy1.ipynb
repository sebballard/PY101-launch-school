{
 "cells": [
  {
   "cell_type": "markdown",
   "id": "9048ae4e-7e05-4fc3-b1c9-441a5e91a923",
   "metadata": {},
   "source": [
    "# (1) Isn't it Odd?\n",
    "\n",
    "Write a function that takes one integer argument and returns True when the \n",
    "\n",
    "number's absolute value is odd, False otherwise."
   ]
  },
  {
   "cell_type": "markdown",
   "id": "cba2f76d-e0e4-45ed-9d44-563808e9119c",
   "metadata": {},
   "source": [
    "#### **Definitions**\n",
    "\n",
    "Absolute value: The non negative version of any integer"
   ]
  },
  {
   "cell_type": "markdown",
   "id": "9cf8877d-0ede-40ec-ad12-98c14775a9e0",
   "metadata": {},
   "source": [
    "#### **Input/Output**\n",
    " \n",
    "**Inputs**\n",
    "\n",
    "Single integer\n",
    "\n",
    "**Output**\n",
    "\n",
    "Boolean value presenting whether absolute value of input is odd"
   ]
  },
  {
   "cell_type": "markdown",
   "id": "e2706f5b-ed8c-44b9-896c-1b1b835aafb5",
   "metadata": {},
   "source": [
    "#### **Implicit requirements**\n",
    "\n",
    "Must accept negative integers"
   ]
  },
  {
   "cell_type": "markdown",
   "id": "8a93e6bb-72ed-4891-a9d4-f67d1e1a410d",
   "metadata": {},
   "source": [
    "#### **Clarifying Questions**\n",
    "\n",
    "Is infinity accepted as input: No, as it is not a natural number, and is not  odd or even\n",
    "\n",
    "Does zero have an absolute value: Yes, the absolute valeu of 0 is 0.\n",
    "\n",
    "Is zero an integer?: Yes, it is, so it is a valid argument\n",
    "\n",
    "Is zero even?: Yes"
   ]
  },
  {
   "cell_type": "markdown",
   "id": "f8ad4fcc-25ef-40b6-9e25-63853c3fe732",
   "metadata": {},
   "source": [
    "#### **Mental Model**\n",
    "\n",
    "Take an integer as input. If it is negative change it to positive integer of the same value.\n",
    "\n",
    "Check if it is evenly divisible by two. If not return True, else return False."
   ]
  },
  {
   "cell_type": "markdown",
   "id": "dc7111fe-f633-43b7-a6e6-d143393b3ab6",
   "metadata": {},
   "source": [
    "#### **Test Cases**\n",
    "\n",
    "Input: 3  Output: True\n",
    "\n",
    "Input: 0  Output: False\n",
    "\n",
    "Input: 1  Output: True\n",
    "\n",
    "Input: -1  Output: True\n",
    "\n",
    "Input: -20  Output: False"
   ]
  },
  {
   "cell_type": "markdown",
   "id": "fd256c09-1a62-44b7-a9f1-61716e0e275b",
   "metadata": {},
   "source": [
    "#### **Data/Algorithm**\n",
    "\n",
    "* `input_int` argument\n",
    "    * If integer is negative convert to absolute value\n",
    "* Get remainder of dividing input integer by two\n",
    "* Return `False` if there is remainder otherwise return `True`"
   ]
  },
  {
   "cell_type": "code",
   "execution_count": 1,
   "id": "3bbbb6b6-b894-48d1-908e-046cf59bfaa1",
   "metadata": {},
   "outputs": [],
   "source": [
    "def is_odd(input_int):\n",
    "    input_int = abs(input_int)\n",
    "\n",
    "    divide_two_remainder = input_int % 2\n",
    "\n",
    "    if divide_two_remainder:\n",
    "        return True\n",
    "    return False"
   ]
  },
  {
   "cell_type": "code",
   "execution_count": 2,
   "id": "c0e861fa-85b6-4dc7-936f-1c80c87f41c1",
   "metadata": {},
   "outputs": [
    {
     "name": "stdout",
     "output_type": "stream",
     "text": [
      "True\n",
      "False\n",
      "True\n",
      "True\n",
      "False\n"
     ]
    }
   ],
   "source": [
    "print(is_odd(3))\n",
    "print(is_odd(0))\n",
    "print(is_odd(1))\n",
    "print(is_odd(-1))\n",
    "print(is_odd(-20))"
   ]
  },
  {
   "cell_type": "markdown",
   "id": "ee2ca42b-577c-40a3-b8e5-cb30b0c76c37",
   "metadata": {},
   "source": [
    "# (2) Odd Numbers\n",
    "\n",
    "Print all odd numbers from 1 to 99, inclusive, with each number on a separate line.\n",
    "\n",
    "Bonus Question: Can you solve the problem by iterating over just the odd numbers?\n"
   ]
  },
  {
   "cell_type": "markdown",
   "id": "6858f58c-4575-471a-a4d4-12b08fc7eb4f",
   "metadata": {},
   "source": [
    "#### **Implicit requirements**\n",
    "\n",
    "Print no even numbers\n",
    "\n",
    "Bonus: If iterating, don't interate over evens either"
   ]
  },
  {
   "cell_type": "markdown",
   "id": "5e8a46e0-d1ce-414b-aef3-e9113adf9f43",
   "metadata": {},
   "source": [
    "#### **Mental Model**\n",
    "Iterate from one to 99 inclusive with a step of two, thus\n",
    "\n",
    "skipping over all numbers. For each number iterated call print on it."
   ]
  },
  {
   "cell_type": "markdown",
   "id": "3c721c92-090f-4da6-b226-aeeba1538615",
   "metadata": {},
   "source": [
    "#### **Data/Algorithm**\n",
    "* Create range iterating from 1 to 99 with steps of two\n",
    "* For each number in the range print it."
   ]
  },
  {
   "cell_type": "code",
   "execution_count": 8,
   "id": "54e50d21-ddeb-4c47-b77f-8e5b3b2fe30d",
   "metadata": {},
   "outputs": [
    {
     "name": "stdout",
     "output_type": "stream",
     "text": [
      "1\n",
      "3\n",
      "5\n",
      "7\n",
      "9\n",
      "11\n",
      "13\n",
      "15\n",
      "17\n",
      "19\n",
      "21\n",
      "23\n",
      "25\n",
      "27\n",
      "29\n",
      "31\n",
      "33\n",
      "35\n",
      "37\n",
      "39\n",
      "41\n",
      "43\n",
      "45\n",
      "47\n",
      "49\n",
      "51\n",
      "53\n",
      "55\n",
      "57\n",
      "59\n",
      "61\n",
      "63\n",
      "65\n",
      "67\n",
      "69\n",
      "71\n",
      "73\n",
      "75\n",
      "77\n",
      "79\n",
      "81\n",
      "83\n",
      "85\n",
      "87\n",
      "89\n",
      "91\n",
      "93\n",
      "95\n",
      "97\n",
      "99\n"
     ]
    }
   ],
   "source": [
    "for num in range(1, 100, 2):\n",
    "    print(num)"
   ]
  },
  {
   "cell_type": "markdown",
   "id": "b6afaaa2-c2ce-4c46-b32c-55d154a61652",
   "metadata": {},
   "source": [
    "#### **Further Exploration**\n",
    "\n",
    "Consider adding a way for the user to specify the starting and ending values of the odd numbers printed."
   ]
  },
  {
   "cell_type": "code",
   "execution_count": 4,
   "id": "5407b1f0-0c6e-4956-8ed9-df42c5c7785d",
   "metadata": {},
   "outputs": [
    {
     "name": "stdout",
     "output_type": "stream",
     "text": [
      "What number do we start with?\n"
     ]
    },
    {
     "name": "stdin",
     "output_type": "stream",
     "text": [
      " 4\n"
     ]
    },
    {
     "name": "stdout",
     "output_type": "stream",
     "text": [
      "Please enter an odd number!\n"
     ]
    },
    {
     "name": "stdin",
     "output_type": "stream",
     "text": [
      " 3\n"
     ]
    },
    {
     "name": "stdout",
     "output_type": "stream",
     "text": [
      "what should be the last number?\n"
     ]
    },
    {
     "name": "stdin",
     "output_type": "stream",
     "text": [
      " 9\n"
     ]
    },
    {
     "name": "stdout",
     "output_type": "stream",
     "text": [
      "3\n",
      "5\n",
      "7\n",
      "9\n"
     ]
    }
   ],
   "source": [
    "print(\"What number do we start with?\")\n",
    "start_num = int(input())\n",
    "\n",
    "while not is_odd(start_num):\n",
    "    print(\"Please enter an odd number!\")\n",
    "    start_num = int(input())\n",
    "\n",
    "print(\"what should be the last number?\")\n",
    "end_num = int(input())\n",
    "\n",
    "while not is_odd(end_num):\n",
    "    print(\"Please enter an odd number!\")\n",
    "    end_num = int(input())\n",
    "\n",
    "for num in range(start_num, end_num + 1, 2):\n",
    "    print(num)"
   ]
  },
  {
   "cell_type": "markdown",
   "id": "b4e9be94-5a8c-455f-bf14-a3e5b348e1c5",
   "metadata": {},
   "source": [
    "# (3) Even Numbers\n",
    "\n",
    "Print all even numbers from 1 to 99, inclusive, with each number on a separate line.\n",
    "\n",
    "Bonus Question: Can you solve the problem by iterating over just the even numbers?\n",
    "\n",
    "\n"
   ]
  },
  {
   "cell_type": "markdown",
   "id": "60a97bde-a4c5-43fe-8806-6a03d67e0ac4",
   "metadata": {},
   "source": [
    "#### **Mental Model**\n",
    "\n",
    "Same solution as previosu question but starting range on 2 instead."
   ]
  },
  {
   "cell_type": "code",
   "execution_count": 5,
   "id": "e3787f57-f588-4a30-be91-4d24c30dc7a5",
   "metadata": {},
   "outputs": [
    {
     "name": "stdout",
     "output_type": "stream",
     "text": [
      "2\n",
      "4\n",
      "6\n",
      "8\n",
      "10\n",
      "12\n",
      "14\n",
      "16\n",
      "18\n",
      "20\n",
      "22\n",
      "24\n",
      "26\n",
      "28\n",
      "30\n",
      "32\n",
      "34\n",
      "36\n",
      "38\n",
      "40\n",
      "42\n",
      "44\n",
      "46\n",
      "48\n",
      "50\n",
      "52\n",
      "54\n",
      "56\n",
      "58\n",
      "60\n",
      "62\n",
      "64\n",
      "66\n",
      "68\n",
      "70\n",
      "72\n",
      "74\n",
      "76\n",
      "78\n",
      "80\n",
      "82\n",
      "84\n",
      "86\n",
      "88\n",
      "90\n",
      "92\n",
      "94\n",
      "96\n",
      "98\n"
     ]
    }
   ],
   "source": [
    "for num in range(2, 99, 2):\n",
    "    print(num)"
   ]
  },
  {
   "cell_type": "markdown",
   "id": "58cfa6be-b57f-4932-92ac-c39fd894f155",
   "metadata": {},
   "source": [
    "# (4) How big is the room?\n",
    "\n",
    "Build a program that asks the user to enter the length and width of a room, in meters, then prints the room's area in both square meters and square feet.\n",
    "\n",
    "Note: 1 square meter == 10.7639 square feet\n"
   ]
  },
  {
   "cell_type": "markdown",
   "id": "00bcecb3-a14e-40dd-b914-17f96650649b",
   "metadata": {},
   "source": [
    "#### **Definitons**\n",
    "\n",
    "Square meters: Length * Width"
   ]
  },
  {
   "cell_type": "markdown",
   "id": "04f6e0ee-80d8-477e-af96-08d0f1a1474c",
   "metadata": {},
   "source": [
    "#### **Input/Output**\n",
    "\n",
    "Get length and width in meters from user\n",
    "\n",
    "Function input:\n",
    "* Length in meters\n",
    "* Width in meters\n",
    "\n",
    "Function output:\n",
    "* Print are in square meters\n",
    "* Print area in square foot\n",
    "* Return None"
   ]
  },
  {
   "cell_type": "markdown",
   "id": "a621d3b9-33b5-4956-b2a7-5b858155b938",
   "metadata": {},
   "source": [
    "#### **Implicit requirements**\n",
    "\n",
    "* Perform calculations using floats\n",
    "* There is no such thing as negative distances"
   ]
  },
  {
   "cell_type": "markdown",
   "id": "03f52211-3a58-4de1-93d3-8e043ee4bd5d",
   "metadata": {},
   "source": [
    "#### **Clarifying Questions**\n",
    "\n",
    "What do we do if input is a negative value?:\n",
    "* Ask for new value\n",
    "\n",
    "How many decimals should we round to?:\n",
    "* Four, going by the conversion in the question"
   ]
  },
  {
   "cell_type": "markdown",
   "id": "6dd2ede8-0050-4438-a245-7585d491aeeb",
   "metadata": {},
   "source": [
    "#### **Mental Model**\n",
    "Function that validates values. Must be positive numbers greater than 0\n",
    "\n",
    "Get valid input for length and width of room in meters from user.\n",
    "* Type should be floats\n",
    "\n",
    "Get square meter area by multiplying length and width.\n",
    "\n",
    "Get square foot area by multiplying square meter area by 10.7639\n",
    "\n",
    "Round both to four decimal places and print results"
   ]
  },
  {
   "cell_type": "code",
   "execution_count": 13,
   "id": "8df7aae0-6bdb-4902-8afe-46090a862cc1",
   "metadata": {},
   "outputs": [
    {
     "name": "stdout",
     "output_type": "stream",
     "text": [
      "What is the length of the room in meters?\n"
     ]
    },
    {
     "name": "stdin",
     "output_type": "stream",
     "text": [
      " 0\n"
     ]
    },
    {
     "name": "stdout",
     "output_type": "stream",
     "text": [
      "Please enter a valid length\n"
     ]
    },
    {
     "name": "stdin",
     "output_type": "stream",
     "text": [
      " 3.25\n"
     ]
    },
    {
     "name": "stdout",
     "output_type": "stream",
     "text": [
      "What is the width of the room in meters?\n"
     ]
    },
    {
     "name": "stdin",
     "output_type": "stream",
     "text": [
      " -3\n"
     ]
    },
    {
     "name": "stdout",
     "output_type": "stream",
     "text": [
      "Please enter a valid length\n"
     ]
    },
    {
     "name": "stdin",
     "output_type": "stream",
     "text": [
      " 4\n"
     ]
    },
    {
     "name": "stdout",
     "output_type": "stream",
     "text": [
      "The area is 13.0 square meters or 139.9307 square feet\n"
     ]
    }
   ],
   "source": [
    "def is_input_valid(input):\n",
    "    try:\n",
    "        input = float(input)\n",
    "    except ValueError:\n",
    "        return False\n",
    "\n",
    "    return input > 0\n",
    "\n",
    "def print_area(length_meters, width_meters):\n",
    "    area_meters = length_meters * width_meters\n",
    "    area_feet = area_meters * 10.7639\n",
    "\n",
    "    print(f'The area is {round(area_meters, 4)} square meters or {round(area_feet, 4)} square feet')\n",
    "\n",
    "\n",
    "\n",
    "print(\"What is the length of the room in meters?\")\n",
    "length_m = input()\n",
    "\n",
    "while not is_input_valid(length_m):\n",
    "    print(\"Please enter a valid length\")\n",
    "    length_m = input()\n",
    "length_m = float(length_m)\n",
    "\n",
    "print(\"What is the width of the room in meters?\")\n",
    "width_m = input()\n",
    "\n",
    "while not is_input_valid(width_m):\n",
    "    print(\"Please enter a valid length\")\n",
    "    width_m = input()\n",
    "width_m = float(width_m)\n",
    "\n",
    "print_area(length_m, width_m)\n"
   ]
  },
  {
   "cell_type": "markdown",
   "id": "514625bc-d0f6-42e5-81cc-8f17f0709e7b",
   "metadata": {},
   "source": [
    "# (5) Tip Calculator\n",
    "\n",
    "Create a simple tip calculator. The program should prompt for a bill amount and a tip rate. \n",
    "\n",
    "The program must compute the tip, then print both the tip and the total amount of the bill. \n",
    "\n",
    "You can ignore input validation and assume that the user will enter valid numbers."
   ]
  },
  {
   "cell_type": "markdown",
   "id": "f93ef1af-ae84-44b5-84fd-2193f1ce59d8",
   "metadata": {},
   "source": [
    "#### **Input/Output**\n",
    "\n",
    "Input:\n",
    "* Bill amount\n",
    "* Tip rate, in percent\n",
    "\n",
    "Output/Print:\n",
    "* Tip amount\n",
    "* Total bill"
   ]
  },
  {
   "cell_type": "markdown",
   "id": "c1f9f2aa-db90-4216-b637-04c364d500e5",
   "metadata": {},
   "source": [
    "#### **Implicit requirements**\n",
    "* Inputs will be positive real numbers\n",
    "* Two decimal places in results"
   ]
  },
  {
   "cell_type": "markdown",
   "id": "4a93daf7-980e-4836-8648-9703cd001e9b",
   "metadata": {},
   "source": [
    "#### **Clarifying Questions**\n",
    "\n",
    "How should the tip be entered?:\n",
    "* As a percent number (ie input is '5' for 5%)\n",
    "\n",
    "How do we calculate the tip amount?\n",
    "* Divide percent number by 100 (ie 5% becomes 0.05)\n",
    "* Multiply this by bill amount\n",
    "\n",
    "How do we get the bill and tip amounts\n",
    "* From user inputs"
   ]
  },
  {
   "cell_type": "markdown",
   "id": "e45473f1-a62b-4b86-9b4a-50821adc638b",
   "metadata": {},
   "source": [
    "#### **Mental Model**\n",
    "\n",
    "* Get user to input numbers for bill amount and percentage tip\n",
    "\n",
    "* Convert tip percent to decimal\n",
    "\n",
    "* Calculate tip amount\n",
    "    *  Bill multplied by decimal tip\n",
    "\n",
    "* Calculate total\n",
    "    * Bill amount + tip amount\n",
    "\n",
    "* Print tip amount and total bill"
   ]
  },
  {
   "cell_type": "markdown",
   "id": "bac35cd1-cf43-42f5-b5d3-68d654694c7a",
   "metadata": {},
   "source": [
    "#### **Test Cases**\n",
    "\n",
    "Bill: 100, tip: 5%\n",
    "* Tip: 5\n",
    "* Total bill: 105\n",
    "\n",
    "Bill: 100, tip: 0%\n",
    "* Tip: 0\n",
    "* Total bill: 100\n",
    "\n",
    "Bill: 5, tip 100%\n",
    "* Tip: 5\n",
    "* Total bill: 10\n",
    "\n",
    "Bill: 5, tip 200%\n",
    "* Tip: 10\n",
    "* Total bill: 15\n",
    "\n",
    "Bill: 0, tip: 75%\n",
    "* Tip: 0\n",
    "* Bill \n",
    "\n",
    "Bill: 100, tip: 7.5\n",
    "* Tip: 7.5\n",
    "* Total bill: 107.5"
   ]
  },
  {
   "cell_type": "markdown",
   "id": "4ed54a13-aa02-4cec-9e9d-0ee3bea580c3",
   "metadata": {},
   "source": [
    "#### **Data**\n",
    "\n",
    "Use function to calculate and print tip and total bill.\n",
    "\n",
    "Get user input for for bill amount and tip. Convert string inputs to floats.\n"
   ]
  },
  {
   "cell_type": "code",
   "execution_count": 19,
   "id": "a7dd3b34-0b62-4ccd-bb0f-5c467c49438a",
   "metadata": {},
   "outputs": [
    {
     "name": "stdout",
     "output_type": "stream",
     "text": [
      "What is the bill?: \n"
     ]
    },
    {
     "name": "stdin",
     "output_type": "stream",
     "text": [
      " 100\n"
     ]
    },
    {
     "name": "stdout",
     "output_type": "stream",
     "text": [
      "What percent tip would you like to give?\n"
     ]
    },
    {
     "name": "stdin",
     "output_type": "stream",
     "text": [
      " 5\n"
     ]
    },
    {
     "name": "stdout",
     "output_type": "stream",
     "text": [
      "The tip is $5.00.\n",
      "The total is $105.00\n",
      "The tip is $0.00.\n",
      "The total is $100.00\n",
      "The tip is $5.00.\n",
      "The total is $10.00\n",
      "The tip is $10.00.\n",
      "The total is $15.00\n",
      "The tip is $0.00.\n",
      "The total is $0.00\n",
      "The tip is $7.50.\n",
      "The total is $107.50\n"
     ]
    }
   ],
   "source": [
    "def print_tip_and_total(bill, tip_percent):\n",
    "    tip_as_decimal = tip_percent / 100\n",
    "\n",
    "    tip_amount =  bill * tip_as_decimal\n",
    "    total_bill = bill + tip_amount\n",
    "\n",
    "    print(f\"The tip is ${tip_amount:.2f}.\")\n",
    "    print(f\"The total is ${total_bill:.2f}\")\n",
    "\n",
    "print(\"What is the bill?: \")\n",
    "bill_amount = float(input())\n",
    "\n",
    "print(\"What percent tip would you like to give?\")\n",
    "tip_as_percent = float(input())\n",
    "\n",
    "print_tip_and_total(bill_amount, tip_as_percent)  #Using input\n",
    "print_tip_and_total(100, 0)\n",
    "print_tip_and_total(5, 100)\n",
    "print_tip_and_total(5, 200)\n",
    "print_tip_and_total(0, 75)\n",
    "print_tip_and_total(100, 7.5)\n",
    "\n"
   ]
  },
  {
   "cell_type": "markdown",
   "id": "22dbfc6a-8538-4499-ae1e-0af25863ee46",
   "metadata": {},
   "source": [
    "# (6) Sum or Product of Consecutive Integers\n",
    "\n",
    "Write a program that asks the user to enter an integer greater than 0, \n",
    "\n",
    "then asks whether the user wants to determine the sum or the product of \n",
    "\n",
    "all numbers between 1 and the entered integer, inclusive.\n"
   ]
  },
  {
   "cell_type": "markdown",
   "id": "2da3c1c1-a6c5-4951-836e-fbd05343ecb2",
   "metadata": {},
   "source": [
    "#### **Input/Output**\n",
    "\n",
    "Input(s):\n",
    "* Integer greater than 0\n",
    "* Sum or product of numbers from 1 to input integer\n",
    "\n",
    "Output(s):\n",
    "* Integer that is either sum on product of requested numbers"
   ]
  },
  {
   "cell_type": "markdown",
   "id": "b9c79201-cca5-4279-a912-166cd714733a",
   "metadata": {},
   "source": [
    "#### **Problem Domain**\n",
    "\n",
    "* Integer meaning\n",
    "    * Whole number\n",
    "\n",
    "\n",
    "* Sum\n",
    "    * Add all consecutive numbers from 1 to the desired end point\n",
    "\n",
    "\n",
    "* Product\n",
    "    * Starting with 1, up until the desired end point, multiply each number by the next "
   ]
  },
  {
   "cell_type": "markdown",
   "id": "dd2006f3-7bd3-4a01-9a16-e00ee65badfb",
   "metadata": {},
   "source": [
    "#### **Implicit Requirements**\n",
    "\n",
    "* Final value will always be an integer\n"
   ]
  },
  {
   "cell_type": "markdown",
   "id": "90f07577-db40-4b19-b548-b099a3bbd4e2",
   "metadata": {},
   "source": [
    "#### **Clarifying Questions**\n",
    "\n",
    "* What do we do with the result?:\n",
    "    * Print it\n",
    "***\n",
    "\n",
    "* What happens if the user inputs 1:\n",
    "\n",
    "    * The result will be 1\n",
    "***\n",
    "* Can the user select both sum and product?\n",
    "    * No\n",
    "***"
   ]
  },
  {
   "cell_type": "markdown",
   "id": "7c6d3576-9541-499d-a1c7-6fe3f462da48",
   "metadata": {},
   "source": [
    "#### **Mental Model**\n",
    "\n",
    "* Get ending number from user\n",
    "* Get decision whther to calculate sum or product\n",
    "* Make an iterator of all relevant numbers\n",
    "* Calculate sum or product of these numbers"
   ]
  },
  {
   "cell_type": "markdown",
   "id": "c79c9c0b-da1e-40ac-8e59-367007983c7d",
   "metadata": {},
   "source": [
    "#### **Examples/Test Cases**\n",
    "\n",
    "Input:\n",
    "* input_int: 5\n",
    "* operation_choice: sum\n",
    "\n",
    "Output:\n",
    "* 15\n",
    "***\n",
    "Input:\n",
    "* input_int: 5\n",
    "* operation_choice: product\n",
    "\n",
    "Output:\n",
    "* 120\n",
    "***\n",
    "Input:\n",
    "* input_int: 1\n",
    "* operation_choice: sum\n",
    "\n",
    "Output:Data Structure\n",
    "* 1\n",
    "***\n",
    "Input:\n",
    "* input_int: 1\n",
    "* operation_choice: product\n",
    "\n",
    "Output:\n",
    "* 1"
   ]
  },
  {
   "cell_type": "markdown",
   "id": "4f117831-dca7-49e7-86b6-4839cabb854e",
   "metadata": {},
   "source": [
    "#### **Data/Algorithm**\n",
    "\n",
    "* Function: sum_of_numbers:\n",
    "    * input: integer\n",
    "    * Make iterable from 1 to target number\n",
    "    * return sum of iterable\n",
    "***\n",
    "* Function: product_of_numbers:\n",
    "    * input: integer\n",
    "    * set total_prod to 1\n",
    "    * iterate through numbers 1 to target number\n",
    "    * reassign total_prod  to total_prod multiplied by current number in iteration\n",
    "    * return total_prod\n",
    "***\n",
    "\n",
    "* Get target number from user\n",
    "    * Convert to integer\n",
    "* Get user choice of sum or product\n",
    "* Calculate sum or product using helper function\n",
    "    * Print return value \n",
    "\n"
   ]
  },
  {
   "cell_type": "code",
   "execution_count": 28,
   "id": "52e768e0-2165-4814-a453-103fa78ce57d",
   "metadata": {},
   "outputs": [
    {
     "name": "stdin",
     "output_type": "stream",
     "text": [
      "Please enter a max integer for the calculation:\n",
      " 5\n",
      "Do you want to find the product or sum?:\n",
      " sum\n"
     ]
    },
    {
     "name": "stdout",
     "output_type": "stream",
     "text": [
      "15\n",
      "120\n",
      "1\n",
      "1\n"
     ]
    }
   ],
   "source": [
    "def sum_of_numbers(target_num):\n",
    "    range_to_target = range(1, target_num + 1)\n",
    "    return sum(range_to_target)\n",
    "\n",
    "def product_of_numbers(target_num):\n",
    "    total_prod = 1\n",
    "    range_to_target = range(1, target_num + 1)\n",
    "\n",
    "    for num in range_to_target:\n",
    "        total_prod *= num\n",
    "\n",
    "    return total_prod\n",
    "\n",
    "def perform_operation(max_num, operation_choice):\n",
    "    if operation_choice == \"sum\":\n",
    "        print(sum_of_numbers(max_num))\n",
    "    elif operation_choice == \"product\":\n",
    "        print(product_of_numbers(max_num))\n",
    "    else:\n",
    "        print(\"I don't recognize that operation\")\n",
    "\n",
    "\n",
    "\n",
    "max_int = int(input(\"Please enter a max integer (above zero) for the calculation:\\n\"))\n",
    "\n",
    "operation_choice = input(\"Do you want to find the product or sum?:\\n\").casefold()\n",
    "\n",
    "perform_operation(max_int, operation_choice) # 15\n",
    "\n",
    "perform_operation(5, \"product\") # 120\n",
    "perform_operation(1, \"sum\") # 1\n",
    "perform_operation(1, \"product\") # 1\n"
   ]
  },
  {
   "cell_type": "markdown",
   "id": "7e0b76ba-40aa-43c7-8a75-3398050945af",
   "metadata": {},
   "source": [
    "# (7) Short Long Short\n",
    "\n",
    "Write a function that takes two strings as arguments, determines the length of the two strings, \n",
    "\n",
    "and then returns the result of concatenating the shorter string, the longer string, and the shorter string once again.\n",
    "\n",
    "You may assume that the strings are of different lengths."
   ]
  },
  {
   "cell_type": "code",
   "execution_count": null,
   "id": "5e52afc6-9e05-4725-94ad-67e79935155d",
   "metadata": {},
   "outputs": [],
   "source": [
    "# These examples should all print True\n",
    "print(short_long_short('abc', 'defgh') == \"abcdefghabc\")\n",
    "print(short_long_short('abcde', 'fgh') == \"fghabcdefgh\")\n",
    "print(short_long_short('', 'xyz') == \"xyz\")\n"
   ]
  },
  {
   "cell_type": "markdown",
   "id": "570b1e9c-4a1f-4ccc-ae48-58cd7507bc35",
   "metadata": {},
   "source": [
    "#### **Input/Output**\n",
    "\n",
    "Input:\n",
    "* Two strings\n",
    "\n",
    "Output:\n",
    "\n",
    "* String. Concatenation of short string, long string then short string"
   ]
  },
  {
   "cell_type": "markdown",
   "id": "d5bd5687-24c7-4834-bf5d-a5a06a61c668",
   "metadata": {},
   "source": [
    "#### **Problem Domain**\n",
    "\n",
    "Length of string:\n",
    "* Amount of charcters in string, including spaces, punctuation etc\n",
    "    * Measurable by `len` function"
   ]
  },
  {
   "cell_type": "markdown",
   "id": "0d7a0724-b300-4023-83ff-9c02f5470b16",
   "metadata": {},
   "source": [
    "#### **Implicit Requirements**\n",
    "* It shouldn't matter what order strings are passed as argument\n",
    "* Should accept empty strings\n",
    "* Strings passed as argument to short_long_short function"
   ]
  },
  {
   "cell_type": "markdown",
   "id": "d169bc18-62ae-4721-af74-eb6890b96317",
   "metadata": {},
   "source": [
    "#### **Clarifying Questions**\n",
    "N/A"
   ]
  },
  {
   "cell_type": "markdown",
   "id": "5a5d53be-1ba0-4005-8174-0c276a5a78a4",
   "metadata": {},
   "source": [
    "#### **Mental Model**\n",
    "\n",
    "* Two strings of different lengths passed to function\n",
    "* Find which one is shorter, and name them `short` and `long` respectively\n",
    "* Concatenate strings: short, long short\n",
    "* Return new concatenated string"
   ]
  },
  {
   "cell_type": "markdown",
   "id": "8011633a-b139-41fb-ac54-cd303de496b9",
   "metadata": {},
   "source": [
    "#### **Examples/Test Cases**\n",
    "```python\n",
    "print(short_long_short('abc', 'defgh') == \"abcdefghabc\")\n",
    "\n",
    "print(short_long_short('abcde', 'fgh') == \"fghabcdefgh\")\n",
    "\n",
    "print(short_long_short('', 'xyz') == \"xyz\")\n",
    "```"
   ]
  },
  {
   "cell_type": "markdown",
   "id": "0d5f6282-4d10-4cb5-8f2b-a65fe370ad74",
   "metadata": {},
   "source": [
    "#### **Data/Algorithm**\n",
    "\n",
    "* `str1` and `str2` passed to `short_long_short` function\n",
    "* If `str1` length is less than `str2`\n",
    "    * Assign `str1` to shorter, and `str2` to longer\n",
    "* Otherwise if `str2` is shorter\n",
    "    * Assign `str2` to shorter and `str1` to longer\n",
    "* Set return_val to `shorter` + `longer` + `shorter`\n",
    "* Return `return_val`"
   ]
  },
  {
   "cell_type": "code",
   "execution_count": 2,
   "id": "4d398608-06ca-4399-a26c-93eb57255cef",
   "metadata": {},
   "outputs": [
    {
     "name": "stdout",
     "output_type": "stream",
     "text": [
      "True\n",
      "True\n",
      "True\n"
     ]
    }
   ],
   "source": [
    "def short_long_short(str1, str2):\n",
    "    if len(str1) < len(str2):\n",
    "        shorter = str1\n",
    "        longer = str2\n",
    "    else:\n",
    "        shorter = str2\n",
    "        longer = str1\n",
    "\n",
    "    return_val = shorter + longer + shorter\n",
    "\n",
    "    return return_val\n",
    "\n",
    "print(short_long_short('abc', 'defgh') == \"abcdefghabc\")\n",
    "\n",
    "print(short_long_short('abcde', 'fgh') == \"fghabcdefgh\")\n",
    "\n",
    "print(short_long_short('', 'xyz') == \"xyz\")\n"
   ]
  },
  {
   "cell_type": "markdown",
   "id": "b76abf24-40a4-477f-a09a-897e20f2a5e4",
   "metadata": {},
   "source": [
    "# (8) Leap Years (Part 1)\n",
    "\n",
    "Write a function that takes any year greater than 0 as input and returns True if the year is a leap year, \n",
    "\n",
    "or False if it is not.\n",
    "\n",
    "For simplicity, this exercise assumes that the Gregorian calendar has been in continuous use since the year 1. We'll address that assumption in the next exercise that follows this one.\n",
    "\n",
    "\n",
    "### These examples should all print True\n",
    "```python\n",
    "print(is_leap_year(1) == False)\n",
    "print(is_leap_year(2) == False)\n",
    "print(is_leap_year(3) == False)\n",
    "print(is_leap_year(4) == True)\n",
    "print(is_leap_year(1000) == False)\n",
    "print(is_leap_year(1100) == False)\n",
    "print(is_leap_year(1200) == True)\n",
    "print(is_leap_year(1300) == False)\n",
    "print(is_leap_year(1751) == False)\n",
    "print(is_leap_year(1752) == True)\n",
    "print(is_leap_year(1753) == False)\n",
    "print(is_leap_year(1800) == False)\n",
    "print(is_leap_year(1900) == False)\n",
    "print(is_leap_year(2000) == True)\n",
    "print(is_leap_year(2023) == False)\n",
    "print(is_leap_year(2024) == True)\n",
    "print(is_leap_year(2025) == False)\n",
    "```"
   ]
  },
  {
   "cell_type": "markdown",
   "id": "f26c5d31-3437-4c60-8016-896a6784d1ce",
   "metadata": {},
   "source": [
    "#### **Input/Output**\n",
    "\n",
    "Input:\n",
    "* Year greater than 0, as integer\n",
    "\n",
    "Output:\n",
    "* Boolean value indicating whether input is a leap year"
   ]
  },
  {
   "cell_type": "markdown",
   "id": "dd74b630-2498-44f8-b656-2e8e970c986f",
   "metadata": {},
   "source": [
    "#### **Problem Domain**\n",
    "\n",
    "How do we determine what a leap year is?\n",
    "\n",
    "    If the year is divisible by 400, it is a leap year.\n",
    "    If the year is divisible by 100 but not by 400, it is not a leap year.\n",
    "    If the year is divisible by 4 but not by 100, it is a leap year.\n",
    "    All other years are not leap years.\n"
   ]
  },
  {
   "cell_type": "markdown",
   "id": "da6fa442-98a1-4bb8-b98e-275795134e4e",
   "metadata": {},
   "source": [
    "#### **Implicit Requirements**\n",
    "\n",
    "* Input should be a  positive integer\n",
    "* Valid integers are from 1"
   ]
  },
  {
   "cell_type": "markdown",
   "id": "fc98cae7-6664-4f52-81e5-a636708feb2a",
   "metadata": {},
   "source": [
    "#### **Clarifying Questions**\n",
    "N/A"
   ]
  },
  {
   "cell_type": "markdown",
   "id": "9f0747cc-1ac8-4367-83b6-b98ce1068868",
   "metadata": {},
   "source": [
    "#### **Mental Model**\n",
    "* Divisible by 400. True\n",
    "* Divisible by 100 but not 400. False\n",
    "* Divisible by 4 but not 100. True"
   ]
  },
  {
   "cell_type": "markdown",
   "id": "aa8798c1-68fe-4aef-a82b-587d16288229",
   "metadata": {},
   "source": [
    "#### **Examples/Test Cases**\n",
    "```python\n",
    "print(is_leap_year(1) == False)\n",
    "print(is_leap_year(2) == False)\n",
    "print(is_leap_year(3) == False)\n",
    "print(is_leap_year(4) == True)\n",
    "print(is_leap_year(1000) == False)\n",
    "print(is_leap_year(1100) == False)\n",
    "print(is_leap_year(1200) == True)\n",
    "print(is_leap_year(1300) == False)\n",
    "print(is_leap_year(1751) == False)\n",
    "print(is_leap_year(1752) == True)\n",
    "print(is_leap_year(1753) == False)\n",
    "print(is_leap_year(1800) == False)\n",
    "print(is_leap_year(1900) == False)\n",
    "print(is_leap_year(2000) == True)\n",
    "print(is_leap_year(2023) == False)\n",
    "print(is_leap_year(2024) == True)\n",
    "print(is_leap_year(2025) == False)\n",
    "```"
   ]
  },
  {
   "cell_type": "markdown",
   "id": "4c9afabc-dbba-41f3-9d27-96a3753e98ef",
   "metadata": {},
   "source": [
    "#### **Data/Algorithm**\n",
    "\n",
    "Function: is_divisible\n",
    "* inputs:\n",
    "    * input_num, num_to_divide\n",
    "* if input_num divided by num_to_divide has no remainder\n",
    "    * return True\n",
    "    * ptherwise False \n",
    "\n",
    "Use if statements to test conditionals"
   ]
  },
  {
   "cell_type": "code",
   "execution_count": 33,
   "id": "2a17d341-15a4-4614-9ca3-f82034d22104",
   "metadata": {},
   "outputs": [
    {
     "name": "stdout",
     "output_type": "stream",
     "text": [
      "True\n",
      "True\n",
      "True\n",
      "True\n",
      "True\n",
      "True\n",
      "True\n",
      "True\n",
      "True\n",
      "True\n",
      "True\n",
      "True\n",
      "True\n",
      "True\n",
      "True\n",
      "True\n",
      "True\n"
     ]
    }
   ],
   "source": [
    "def is_divisble(input_num, divisor):\n",
    "    return input_num % divisor == 0\n",
    "\n",
    "def is_leap_year(year):\n",
    "    if is_divisble(year, 400):\n",
    "        return True\n",
    "    elif is_divisble(year, 100):\n",
    "        return False\n",
    "    elif is_divisble(year, 4):\n",
    "        return True\n",
    "\n",
    "    return False\n",
    "\n",
    "print(is_leap_year(1) == False)\n",
    "print(is_leap_year(2) == False)\n",
    "print(is_leap_year(3) == False)\n",
    "print(is_leap_year(4) == True)\n",
    "print(is_leap_year(1000) == False)\n",
    "print(is_leap_year(1100) == False)\n",
    "print(is_leap_year(1200) == True)\n",
    "print(is_leap_year(1300) == False)\n",
    "print(is_leap_year(1751) == False)\n",
    "print(is_leap_year(1752) == True)\n",
    "print(is_leap_year(1753) == False)\n",
    "print(is_leap_year(1800) == False)\n",
    "print(is_leap_year(1900) == False)\n",
    "print(is_leap_year(2000) == True)\n",
    "print(is_leap_year(2023) == False)\n",
    "print(is_leap_year(2024) == True)\n",
    "print(is_leap_year(2025) == False)"
   ]
  },
  {
   "cell_type": "markdown",
   "id": "277017dc-7437-4858-8664-c4a0952fd00a",
   "metadata": {},
   "source": [
    "# (9) Leap Years (Part 2)\n",
    "\n",
    "In the previous exercise, we assumed that the Gregorian calendar has been in continuous use since the year 1. \n",
    "\n",
    "However, the Gregorian calendar wasn't adopted until much later; prior to that, \n",
    "\n",
    "much of the world used the Julian calendar, which observed leap year every 4 years.\n",
    "\n",
    "in 1752, England, Ireland, and the British colonies all switched to the Gregorian calendar. \n",
    "\n",
    "Update the function from the previous exercise so it uses the Julian calendar prior to 1752, \n",
    "\n",
    "and the Gregorian calendar starting in 1752.\n"
   ]
  },
  {
   "cell_type": "markdown",
   "id": "972fa426-cfd7-40ef-91c2-4ea03a8ddf28",
   "metadata": {},
   "source": [
    "#### **Input/Output**\n",
    "\n",
    "Input:\n",
    "* Year greater than 0, as integer\n",
    "\n",
    "Output:\n",
    "* Boolean value indicating whether input year was a leap year that year"
   ]
  },
  {
   "cell_type": "markdown",
   "id": "2da74341-dfc5-4c0a-b781-413c3057960a",
   "metadata": {},
   "source": [
    "#### **Problem Domain**\n",
    "\n",
    "How do we determine what a leap year is?\n",
    "* If year is before 1752, leap year if divisible by 4\n",
    "* If year is after 1752, use same rules pas previous excercise\n"
   ]
  },
  {
   "cell_type": "markdown",
   "id": "1024da1a-cd06-46d1-8726-87ed780a65b0",
   "metadata": {},
   "source": [
    "#### **Examples/Test Cases**\n",
    "\n",
    "```python\n",
    "print(is_leap_year(1) == False)\n",
    "print(is_leap_year(2) == False)\n",
    "print(is_leap_year(3) == False)\n",
    "print(is_leap_year(4) == True)\n",
    "print(is_leap_year(1000) == True)\n",
    "print(is_leap_year(1100) == True)\n",
    "print(is_leap_year(1200) == True)\n",
    "print(is_leap_year(1300) == True)\n",
    "print(is_leap_year(1751) == False)\n",
    "print(is_leap_year(1752) == True)\n",
    "print(is_leap_year(1753) == False)\n",
    "print(is_leap_year(1800) == False)\n",
    "print(is_leap_year(1900) == False)\n",
    "print(is_leap_year(2000) == True)\n",
    "print(is_leap_year(2023) == False)\n",
    "print(is_leap_year(2024) == True)\n",
    "print(is_leap_year(2025) == False)\n",
    "```\n"
   ]
  },
  {
   "cell_type": "markdown",
   "id": "f852a1b5-810f-4c97-858b-7bb6345d00e7",
   "metadata": {},
   "source": [
    "#### **Data/Algorithm**\n",
    "* If year is before 1753\n",
    "    * Return true if divisbnle by 4\n",
    "    * Otherwise False\n",
    "* If year is later than 1752 use previous algorithm"
   ]
  },
  {
   "cell_type": "code",
   "execution_count": 8,
   "id": "afe069c4-bc63-4584-8cee-ef4bfa7e9ce0",
   "metadata": {},
   "outputs": [],
   "source": [
    "def is_divisble(input_num, divisor):\n",
    "    return input_num % divisor == 0\n",
    "\n",
    "def is_leap_year(year):\n",
    "    if year < 1752:\n",
    "        return is_divisble(year, 4)\n",
    "    \n",
    "    if is_divisble(year, 400):\n",
    "        return True\n",
    "    elif is_divisble(year, 100):\n",
    "        return False\n",
    "    elif is_divisble(year, 4):\n",
    "        return True\n",
    "\n",
    "    return False"
   ]
  },
  {
   "cell_type": "code",
   "execution_count": 9,
   "id": "2ae0a080-5cb4-4f72-ad11-787b7737e148",
   "metadata": {},
   "outputs": [
    {
     "name": "stdout",
     "output_type": "stream",
     "text": [
      "True\n",
      "True\n",
      "True\n",
      "True\n",
      "True\n",
      "True\n",
      "True\n",
      "True\n",
      "True\n",
      "True\n",
      "True\n",
      "True\n",
      "True\n",
      "True\n",
      "True\n",
      "True\n",
      "True\n"
     ]
    }
   ],
   "source": [
    "print(is_leap_year(1) == False)\n",
    "print(is_leap_year(2) == False)\n",
    "print(is_leap_year(3) == False)\n",
    "print(is_leap_year(4) == True)\n",
    "print(is_leap_year(1000) == True)\n",
    "print(is_leap_year(1100) == True)\n",
    "print(is_leap_year(1200) == True)\n",
    "print(is_leap_year(1300) == True)\n",
    "print(is_leap_year(1751) == False)\n",
    "print(is_leap_year(1752) == True)\n",
    "print(is_leap_year(1753) == False)\n",
    "print(is_leap_year(1800) == False)\n",
    "print(is_leap_year(1900) == False)\n",
    "print(is_leap_year(2000) == True)\n",
    "print(is_leap_year(2023) == False)\n",
    "print(is_leap_year(2024) == True)\n",
    "print(is_leap_year(2025) == False)\n"
   ]
  },
  {
   "cell_type": "markdown",
   "id": "84945e15-b5f2-40cc-a769-91dd5c303aaa",
   "metadata": {},
   "source": [
    "# (10) Multiples of 3 or 5\n",
    "\n",
    "Write a function that computes the sum of all numbers between 1 and some other number, \n",
    "\n",
    "inclusive, that are multiples of 3 or 5. For instance, if the supplied number is 20, \n",
    "\n",
    "the result should be 98 (3 + 5 + 6 + 9 + 10 + 12 + 15 + 18 + 20).\n",
    "\n",
    "You may assume that the number passed in is an integer greater than 1.\n"
   ]
  },
  {
   "cell_type": "markdown",
   "id": "6759b6bb-66d9-43d2-93f2-4d1427a6fc60",
   "metadata": {},
   "source": [
    "#### **Input/Output**\n",
    "\n",
    "Input(s):\n",
    "* Integer greater than 1\n",
    "\n",
    "Output(s):\n",
    "* Sum of all numbers from 1 to input_num inclusive that are divisble by 3 or 5"
   ]
  },
  {
   "cell_type": "markdown",
   "id": "ef969c71-e728-405f-abb9-472a45b6e59c",
   "metadata": {},
   "source": [
    "#### **Problem Domain**\n",
    "\n",
    "How do we calculate sum of all numbers?\n",
    "* 3 + 5 + 6 + 9 + 10 ...."
   ]
  },
  {
   "cell_type": "markdown",
   "id": "5374e7d0-5e7a-49d2-b309-616da10fbce1",
   "metadata": {},
   "source": [
    "#### **Implicit Requirements**\n",
    "* If input is less than 3 return 0\n"
   ]
  },
  {
   "cell_type": "markdown",
   "id": "8f4620fe-b8e8-4487-8b7d-e14bd42fc557",
   "metadata": {},
   "source": [
    "#### **Examples/Test Cases**\n",
    "```python\n",
    "# These examples should all print True\n",
    "print(multisum(3) == 3)\n",
    "print(multisum(5) == 8)\n",
    "print(multisum(10) == 33)\n",
    "print(multisum(1000) == 234168)\n",
    "```\n",
    "\n"
   ]
  },
  {
   "cell_type": "markdown",
   "id": "345a34c0-e8aa-47cf-be19-529f6ecb0691",
   "metadata": {},
   "source": [
    "#### **Clarifying Questions**\n",
    "\n",
    "N/A\n",
    "\n"
   ]
  },
  {
   "cell_type": "markdown",
   "id": "5822dbe8-672c-4058-8373-93ecf80abf9a",
   "metadata": {},
   "source": [
    "#### **Mental Model**\n",
    "* Get input of an integer greater than one\n",
    "* Return the sum of every ineteger from 1 to input that is divisble by either 3 or 5"
   ]
  },
  {
   "cell_type": "markdown",
   "id": "28e3adf8-ff8d-4f81-93f9-3b6ff358a0ef",
   "metadata": {},
   "source": [
    "#### **Data/Algorithm**\n",
    "\n",
    "* Helper function: is_divisble_3_or_5(input_num)\n",
    "    * Return `True` if input_num is divisble by 3 or 5\n",
    "\n",
    "* Set cum_sum to zero\n",
    "* Iterate through numbers 1 to target value inclusive\n",
    "* If iterated number is divisible by 3 or 5 add it to cum_sum (use helper function)\n",
    "* After iteration is finished return cum_sum"
   ]
  },
  {
   "cell_type": "code",
   "execution_count": 16,
   "id": "5e07a96c-9dc0-48d2-b7bd-37e57ac6e170",
   "metadata": {},
   "outputs": [],
   "source": [
    "def is_divisible_3_or_5(input_num):\n",
    "    return (input_num % 3 == 0) or (input_num % 5 == 0)\n",
    "\n",
    "def multisum(target_num):\n",
    "    cum_sum = 0\n",
    "    for num in range(1, target_num + 1):\n",
    "        if is_divisible_3_or_5(num):\n",
    "            cum_sum += num\n",
    "\n",
    "    return cum_sum"
   ]
  },
  {
   "cell_type": "code",
   "execution_count": 17,
   "id": "5decfcc1-9b90-4f4c-81de-d4b30e1b8178",
   "metadata": {},
   "outputs": [
    {
     "name": "stdout",
     "output_type": "stream",
     "text": [
      "True\n",
      "True\n",
      "True\n",
      "True\n"
     ]
    }
   ],
   "source": [
    "print(multisum(3) == 3)\n",
    "print(multisum(5) == 8)\n",
    "print(multisum(10) == 33)\n",
    "print(multisum(1000) == 234168)"
   ]
  },
  {
   "cell_type": "markdown",
   "id": "693a5aa5-04e5-498b-9c0f-22174e811d20",
   "metadata": {},
   "source": [
    "# (11) UTF-16 String Value\n",
    "\n",
    "Write a function that determines and returns the UTF-16 string value of a string passed in as an argument. \n",
    "\n",
    "The UTF-16 string value is the sum of the UTF-16 values of every character in the string. \n",
    "\n",
    "(You may use ord to determine the UTF-16 value of a character.)\n"
   ]
  },
  {
   "cell_type": "markdown",
   "id": "31e71b7b-ce0f-4274-887b-15098b63b174",
   "metadata": {},
   "source": [
    "#### **Input/Output**\n",
    "\n",
    "Input(s):\n",
    "* Single string\n",
    "\n",
    "Output(s):\n",
    "* Integer, representing UTF-16 string value"
   ]
  },
  {
   "cell_type": "markdown",
   "id": "96e59d25-0be4-443e-a753-04f537d39870",
   "metadata": {},
   "source": [
    "#### **Problem Domain**\n",
    "\n",
    "What is UTF-16?\n",
    "* \"UTF-16 (16-bit Unicode Transformation Format) is a character encoding that supports all 1,112,064 valid code points of Unicode.\""
   ]
  },
  {
   "cell_type": "markdown",
   "id": "7ab44720-e217-48aa-8803-19b471a29ae9",
   "metadata": {},
   "source": [
    "#### **Implicit Requirements**\n",
    "\n",
    "* Empty string returns 0\n",
    "* Works with non-ASCII characters\n",
    "* Can pass variables to the function if they reference a string\n",
    "* Capitals produce a different value"
   ]
  },
  {
   "cell_type": "markdown",
   "id": "20e8be1e-1778-4d85-aa52-155a35addda6",
   "metadata": {},
   "source": [
    "#### **Clarifying Questions**\n",
    "\n",
    "What is Unicode and UTF-16:\n",
    "* \"The Unicode standard describes how characters are represented by code points. A code point value is an integer in the range 0 to 0x10FFFF\"\n",
    "* \"A character is represented on a screen or on paper by a set of graphical elements that’s called a glyph.\"\n",
    "* We are looking for the sum of code point values of the symbols in the provided string\n",
    "\n",
    "What happens when we pass an empty string to `ord`?\n",
    "* The code raises a `TypeError`.\n",
    "    * Thus we must account for empty strings in the function\n",
    "    * Make empty string return 0\n",
    "\n",
    "\n",
    "How are spaces represented?\n",
    "* They have a UTF-16 value of 16"
   ]
  },
  {
   "cell_type": "markdown",
   "id": "1bc05b25-108e-40d0-9509-dbfb5ccbd599",
   "metadata": {},
   "source": [
    "#### **Mental Model**\n",
    "\n",
    "Each text symbol/character has a unique number related to it that can be accessed using the\n",
    "\n",
    "`ord` function.\n",
    "\n",
    "We are looking for the sum of these values for every character in the given string"
   ]
  },
  {
   "cell_type": "markdown",
   "id": "484f1005-d8c8-4e80-bae5-75701d0b93e5",
   "metadata": {},
   "source": [
    "#### **Examples/Test Cases**\n",
    "\n",
    "```python\n",
    "# These examples should all print True\n",
    "print(utf16_value('Four score') == 984)\n",
    "print(utf16_value('Launch School') == 1251)\n",
    "print(utf16_value('a') == 97)\n",
    "print(utf16_value('') == 0)\n",
    "print(utf16_value(' ') == 32)\n",
    "# The next three lines demonstrate that the code\n",
    "# works with non-ASCII characters from the UTF-16\n",
    "# character set.\n",
    "OMEGA = \"\\u03A9\"              # UTF-16 character 'Ω' (omega)\n",
    "print(utf16_value(OMEGA) == 937)\n",
    "print(utf16_value(OMEGA + OMEGA + OMEGA) == 2811)\n",
    "\n",
    "```"
   ]
  },
  {
   "cell_type": "markdown",
   "id": "fb4fb4a0-214d-4eec-b79f-5dd27f0407f4",
   "metadata": {},
   "source": [
    "#### **Data/Algorithm**\n",
    "\n",
    "* Function `utf16_value`: input: `input_str`\n",
    "    *  Set cum_utf to 0\n",
    "    *  Iterate over characters in `input_str`\n",
    "        * Add the utf-16 value to `cum_utf`\n",
    "    * Return `cum_utf`    "
   ]
  },
  {
   "cell_type": "code",
   "execution_count": 30,
   "id": "5569cc05-2884-4ce0-b3b5-f43a7a5a38eb",
   "metadata": {},
   "outputs": [],
   "source": [
    "def utf16_value(input_str):\n",
    "    cum_utf = 0\n",
    "\n",
    "    for char in input_str:\n",
    "        char_utf = ord(char)\n",
    "        cum_utf += char_utf\n",
    "\n",
    "    return cum_utf"
   ]
  },
  {
   "cell_type": "code",
   "execution_count": 32,
   "id": "4124e511-1147-46f7-ad9b-a070143d6e46",
   "metadata": {},
   "outputs": [
    {
     "name": "stdout",
     "output_type": "stream",
     "text": [
      "True\n",
      "True\n",
      "True\n",
      "True\n",
      "True\n",
      "True\n",
      "True\n"
     ]
    }
   ],
   "source": [
    "# These examples should all print True\n",
    "print(utf16_value('Four score') == 984)\n",
    "print(utf16_value('Launch School') == 1251)\n",
    "print(utf16_value('a') == 97)\n",
    "print(utf16_value('') == 0)\n",
    "print(utf16_value(' ') == 32)\n",
    "# The next three lines demonstrate that the code\n",
    "# works with non-ASCII characters from the UTF-16\n",
    "# character set.\n",
    "OMEGA = \"\\u03A9\"              # UTF-16 character 'Ω' (omega)\n",
    "print(utf16_value(OMEGA) == 937)\n",
    "print(utf16_value(OMEGA + OMEGA + OMEGA) == 2811)"
   ]
  }
 ],
 "metadata": {
  "kernelspec": {
   "display_name": "Python 3 (ipykernel)",
   "language": "python",
   "name": "python3"
  },
  "language_info": {
   "codemirror_mode": {
    "name": "ipython",
    "version": 3
   },
   "file_extension": ".py",
   "mimetype": "text/x-python",
   "name": "python",
   "nbconvert_exporter": "python",
   "pygments_lexer": "ipython3",
   "version": "3.12.3"
  }
 },
 "nbformat": 4,
 "nbformat_minor": 5
}
