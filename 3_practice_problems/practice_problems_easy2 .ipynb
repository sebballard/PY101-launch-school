{
 "cells": [
  {
   "cell_type": "markdown",
   "id": "1b6185cd-2db5-492d-96ae-71deabd00101",
   "metadata": {},
   "source": [
    "(1)\n",
    "Write two distinct ways of reversing the list without mutating the original list."
   ]
  },
  {
   "cell_type": "code",
   "execution_count": 3,
   "id": "c3491e85-d0d8-465f-b91e-2eecb0571eab",
   "metadata": {},
   "outputs": [
    {
     "name": "stdout",
     "output_type": "stream",
     "text": [
      "[1, 2, 3, 4, 5] [5, 4, 3, 2, 1] [5, 4, 3, 2, 1]\n"
     ]
    }
   ],
   "source": [
    "numbers = [1, 2, 3, 4, 5]  \n",
    "new_nums = list(reversed(numbers))\n",
    "new_nums2 = numbers[-1::-1]\n",
    "\n",
    "print(numbers, new_nums, new_nums2)"
   ]
  },
  {
   "cell_type": "markdown",
   "id": "6c941864-13bc-4bc7-a435-8b97e928661c",
   "metadata": {},
   "source": [
    "(2) Given a number and a list, determine whether the number is included in the list."
   ]
  },
  {
   "cell_type": "code",
   "execution_count": 6,
   "id": "3da442bb-d846-4148-b7b3-4cba1e37b7e2",
   "metadata": {},
   "outputs": [
    {
     "name": "stdout",
     "output_type": "stream",
     "text": [
      "False\n",
      "True\n"
     ]
    }
   ],
   "source": [
    "numbers = [1, 2, 3, 4, 5, 15, 16, 17, 95, 96, 99]\n",
    "\n",
    "number1 = 8  # False (not in numbers)\n",
    "number2 = 95 # True (in numbers)\n",
    "\n",
    "print(number1 in numbers)\n",
    "print(number2 in  numbers)"
   ]
  },
  {
   "cell_type": "markdown",
   "id": "55719139-5d1b-4efd-9fd3-ced114fcffa8",
   "metadata": {},
   "source": [
    "(3) Programmatically determine whether 42 lies between 10 and 100, inclusive. Do the same for the values 100 and 101."
   ]
  },
  {
   "cell_type": "code",
   "execution_count": 3,
   "id": "ccda8ef3-dc02-4e46-b6f4-70227b076c38",
   "metadata": {},
   "outputs": [
    {
     "name": "stdout",
     "output_type": "stream",
     "text": [
      "True\n",
      "True\n",
      "False\n"
     ]
    }
   ],
   "source": [
    "def between_10_100(num):\n",
    "    return num >= 10 and num <= 100\n",
    "\n",
    "print(between_10_100(42))\n",
    "print(between_10_100(100))\n",
    "print(between_10_100(101))"
   ]
  },
  {
   "cell_type": "markdown",
   "id": "09df6e87-9836-4145-a381-4aca29fb274f",
   "metadata": {},
   "source": [
    "(4) Given a list of numbers [1, 2, 3, 4, 5], mutate the list by removing the number at index 2, so that the list becomes [1, 2, 4, 5]."
   ]
  },
  {
   "cell_type": "code",
   "execution_count": 16,
   "id": "1dfb3153-b8d5-45cd-a110-e662a7612fc2",
   "metadata": {},
   "outputs": [
    {
     "name": "stdout",
     "output_type": "stream",
     "text": [
      "[1, 2, 4, 5]\n",
      "[1, 2, 4, 5]\n"
     ]
    }
   ],
   "source": [
    "list = [1, 2, 3, 4, 5]\n",
    "del list[2]\n",
    "print(list)\n",
    "\n",
    "list = [1, 2, 3, 4, 5]\n",
    "list.pop(2)\n",
    "print(list)\n",
    "\n",
    "del list"
   ]
  },
  {
   "cell_type": "markdown",
   "id": "208b8aac-b42e-45d0-9fac-082109183fa6",
   "metadata": {},
   "source": [
    "(5) How would you verify whether the data structures assigned to the variables numbers and table are of type list?"
   ]
  },
  {
   "cell_type": "code",
   "execution_count": 18,
   "id": "03eb40dc-6b4b-402a-bb4b-995d6ea10f54",
   "metadata": {},
   "outputs": [
    {
     "name": "stdout",
     "output_type": "stream",
     "text": [
      "True\n",
      "False\n"
     ]
    }
   ],
   "source": [
    "numbers = [1, 2, 3, 4]\n",
    "table = {'field1': 1, 'field2': 2, 'field3': 3, 'field4': 4}\n",
    "\n",
    "print(isinstance(numbers, list))\n",
    "print(isinstance(table, list))"
   ]
  },
  {
   "cell_type": "markdown",
   "id": "ee448ef2-ba3c-491a-be91-f2b09d558a26",
   "metadata": {},
   "source": [
    "(6)  If we have a 40-character wide table of Flintstone family members, how can we center the following title above the table with spaces?"
   ]
  },
  {
   "cell_type": "code",
   "execution_count": 20,
   "id": "bcfa217c-2f67-4c68-ac25-087e559583ee",
   "metadata": {
    "scrolled": true
   },
   "outputs": [
    {
     "name": "stdout",
     "output_type": "stream",
     "text": [
      "       Flintstone Family Members        \n"
     ]
    }
   ],
   "source": [
    "title = \"Flintstone Family Members\"\n",
    "\n",
    "centered = title.center(40)\n",
    "print(centered)"
   ]
  },
  {
   "cell_type": "markdown",
   "id": "b78daff3-dcdd-4ccb-8f4e-546cb431bd0e",
   "metadata": {},
   "source": [
    "(7) Write a one-liner to count the number of lower-case t characters in each of the following strings:"
   ]
  },
  {
   "cell_type": "code",
   "execution_count": 21,
   "id": "3463d80c-609a-473c-b0c5-c2aa7b515f5d",
   "metadata": {},
   "outputs": [
    {
     "name": "stdout",
     "output_type": "stream",
     "text": [
      "2\n",
      "0\n"
     ]
    }
   ],
   "source": [
    "statement1 = \"The Flintstones Rock!\"\n",
    "statement2 = \"Easy come, easy go.\"\n",
    "\n",
    "length1 = len([char for char in statement1 if char == \"t\"])\n",
    "length2 = len([char for char in statement2 if char == \"t\"])\n",
    "\n",
    "print(length1)\n",
    "print(length2)\n"
   ]
  },
  {
   "cell_type": "markdown",
   "id": "3e84cf6a-6f27-4b14-be0e-c65877240871",
   "metadata": {},
   "source": [
    "(8) Determine whether the following dictionary of people and their age contains an entry for 'Spot':"
   ]
  },
  {
   "cell_type": "code",
   "execution_count": 22,
   "id": "f31b20bd-3521-4fbf-b395-9e5250bcb057",
   "metadata": {},
   "outputs": [
    {
     "name": "stdout",
     "output_type": "stream",
     "text": [
      "False\n"
     ]
    }
   ],
   "source": [
    "ages = {'Herman': 32, 'Lily': 30, 'Grandpa': 402, 'Eddie': 10}\n",
    "\n",
    "contains_spot = 'Spot' in ages\n",
    "print(contains_spot)"
   ]
  },
  {
   "cell_type": "markdown",
   "id": "dac0e2fb-7bcd-45d4-acf0-34f986234960",
   "metadata": {},
   "source": [
    "(9) We have most of the Munster family in our ages dictionary:\n",
    "Add entries for Marilyn and Spot to the dictionary:"
   ]
  },
  {
   "cell_type": "code",
   "execution_count": 2,
   "id": "0d40a339-db02-45b1-adab-7e15080f4895",
   "metadata": {},
   "outputs": [
    {
     "name": "stdout",
     "output_type": "stream",
     "text": [
      "{'Herman': 32, 'Lily': 30, 'Grandpa': 5843, 'Eddie': 10, 'Marilyn': 22, 'Spot': 237}\n"
     ]
    }
   ],
   "source": [
    "ages = {'Herman': 32, 'Lily': 30, 'Grandpa': 5843, 'Eddie': 10}\n",
    "\n",
    "additional_ages = {'Marilyn': 22, 'Spot': 237}\n",
    "\n",
    "for name, age in additional_ages.items():\n",
    "    ages[name] = age\n",
    "\n",
    "print(ages)"
   ]
  },
  {
   "cell_type": "code",
   "execution_count": 3,
   "id": "f4062e19-58cf-47b2-ad79-04ca06f07d06",
   "metadata": {},
   "outputs": [
    {
     "name": "stdout",
     "output_type": "stream",
     "text": [
      "{'Herman': 32, 'Lily': 30, 'Grandpa': 5843, 'Eddie': 10, 'Marilyn': 22, 'Spot': 237}\n"
     ]
    }
   ],
   "source": [
    "# Alternative method\n",
    "\n",
    "ages = {'Herman': 32, 'Lily': 30, 'Grandpa': 5843, 'Eddie': 10}\n",
    "\n",
    "additional_ages = {'Marilyn': 22, 'Spot': 237}\n",
    "\n",
    "ages.update(additional_ages)\n",
    "\n",
    "print(ages)"
   ]
  },
  {
   "cell_type": "code",
   "execution_count": null,
   "id": "6e3b30e6-3fe8-4548-a079-427a3367a760",
   "metadata": {},
   "outputs": [],
   "source": []
  }
 ],
 "metadata": {
  "kernelspec": {
   "display_name": "Python 3 (ipykernel)",
   "language": "python",
   "name": "python3"
  },
  "language_info": {
   "codemirror_mode": {
    "name": "ipython",
    "version": 3
   },
   "file_extension": ".py",
   "mimetype": "text/x-python",
   "name": "python",
   "nbconvert_exporter": "python",
   "pygments_lexer": "ipython3",
   "version": "3.12.3"
  }
 },
 "nbformat": 4,
 "nbformat_minor": 5
}
