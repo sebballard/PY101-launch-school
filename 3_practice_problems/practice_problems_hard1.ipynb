{
 "cells": [
  {
   "cell_type": "markdown",
   "id": "d1e0694a-99e6-467b-90cd-cbfe82096630",
   "metadata": {},
   "source": [
    "(1) Will the following functions return the same results?"
   ]
  },
  {
   "cell_type": "code",
   "execution_count": 1,
   "id": "e1104393-ac2c-4477-be96-7ef0cf80bb66",
   "metadata": {},
   "outputs": [
    {
     "name": "stdout",
     "output_type": "stream",
     "text": [
      "{'prop1': 'hi there'}\n",
      "None\n"
     ]
    }
   ],
   "source": [
    "def first():\n",
    "    return {\n",
    "        'prop1': \"hi there\",\n",
    "    }\n",
    "\n",
    "def second():\n",
    "    return\n",
    "    {\n",
    "        'prop1': \"hi there\",\n",
    "    }\n",
    "\n",
    "print(first())\n",
    "print(second())"
   ]
  },
  {
   "cell_type": "markdown",
   "id": "40fec495-61e3-406f-9ef1-1e59c8db26a4",
   "metadata": {},
   "source": [
    "`first` will return the dictionary as expected.\n",
    "\n",
    "`second` will return `None`. The return value must be on the same line as the return statement."
   ]
  },
  {
   "cell_type": "markdown",
   "id": "c5ab5ebe-9631-4f18-8259-db9f012f44aa",
   "metadata": {},
   "source": [
    "(2) What does the last line in the following code output?"
   ]
  },
  {
   "cell_type": "code",
   "execution_count": 2,
   "id": "19d594f4-ab13-4c32-b5a5-edec710d8d7f",
   "metadata": {},
   "outputs": [
    {
     "name": "stdout",
     "output_type": "stream",
     "text": [
      "[1, 2]\n",
      "{'first': [1, 2]}\n"
     ]
    }
   ],
   "source": [
    "dictionary = {'first': [1]}\n",
    "num_list = dictionary['first']\n",
    "num_list.append(2)\n",
    "\n",
    "print(num_list)\n",
    "print(dictionary)\n"
   ]
  },
  {
   "cell_type": "markdown",
   "id": "8cc39652-7089-49f8-8b11-fc8e71c32152",
   "metadata": {},
   "source": [
    "I will print:\n",
    "`{'first': [1, 2]}`"
   ]
  },
  {
   "cell_type": "markdown",
   "id": "9795af3e-8291-460d-91aa-a5a4f5ee83a5",
   "metadata": {},
   "source": [
    "(3) Given the following similar sets of code, what will each code snippet print?"
   ]
  },
  {
   "cell_type": "code",
   "execution_count": 3,
   "id": "64528795-8c3b-4aab-98fe-daf00c2c3f89",
   "metadata": {},
   "outputs": [
    {
     "name": "stdout",
     "output_type": "stream",
     "text": [
      "one is: ['one']\n",
      "two is: ['two']\n",
      "three is: ['three']\n"
     ]
    }
   ],
   "source": [
    "# A\n",
    "def mess_with_vars(one, two, three):\n",
    "    one = two\n",
    "    two = three\n",
    "    three = one\n",
    "\n",
    "one = [\"one\"]\n",
    "two = [\"two\"]\n",
    "three = [\"three\"]\n",
    "\n",
    "mess_with_vars(one, two, three)\n",
    "\n",
    "print(f\"one is: {one}\") # [\"one\"]\n",
    "print(f\"two is: {two}\") # [\"two\"]\n",
    "print(f\"three is: {three}\") # [\"three\"]"
   ]
  },
  {
   "cell_type": "code",
   "execution_count": 4,
   "id": "cb20117c-234b-4c6a-93c5-93a35ff57f5c",
   "metadata": {},
   "outputs": [
    {
     "name": "stdout",
     "output_type": "stream",
     "text": [
      "one is: ['one']\n",
      "two is: ['two']\n",
      "three is: ['three']\n"
     ]
    }
   ],
   "source": [
    "# B \n",
    "def mess_with_vars(one, two, three):\n",
    "    one = [\"two\"]\n",
    "    two = [\"three\"]\n",
    "    three = [\"one\"]\n",
    "\n",
    "one = [\"one\"]\n",
    "two = [\"two\"]\n",
    "three = [\"three\"]\n",
    "\n",
    "mess_with_vars(one, two, three)\n",
    "\n",
    "print(f\"one is: {one}\") # [\"one\"]\n",
    "print(f\"two is: {two}\") # [\"two\"]\n",
    "print(f\"three is: {three}\") # [\"three\"]"
   ]
  },
  {
   "cell_type": "code",
   "execution_count": 5,
   "id": "aa040957-64d3-4a7c-b7cf-5df024efc438",
   "metadata": {},
   "outputs": [
    {
     "name": "stdout",
     "output_type": "stream",
     "text": [
      "one is: ['two']\n",
      "two is: ['three']\n",
      "three is: ['one']\n"
     ]
    }
   ],
   "source": [
    "# C\n",
    "def mess_with_vars(one, two, three):\n",
    "    one[0] = \"two\"\n",
    "    two[0] = \"three\"\n",
    "    three[0] = \"one\"\n",
    "\n",
    "one = [\"one\"]\n",
    "two = [\"two\"]\n",
    "three = [\"three\"]\n",
    "\n",
    "mess_with_vars(one, two, three)\n",
    "\n",
    "print(f\"one is: {one}\") # [\"two\"]\n",
    "print(f\"two is: {two}\") # [\"three\"]\n",
    "print(f\"three is: {three}\") # [\"one\"]\n"
   ]
  },
  {
   "cell_type": "markdown",
   "id": "b2bdac6e-d15f-4261-9833-887266066a2b",
   "metadata": {},
   "source": [
    "(4) Ben was tasked to write a simple Python function to determine whether an input string is an \n",
    "\n",
    "IP address using 4 dot-separated numbers, e.g., 10.4.5.11.\n",
    "\n",
    "Alyssa supplied Ben with a function named is_an_ip_number. \n",
    "\n",
    "It determines whether a string is a numeric string between 0 and 255 as required for IP \n",
    "\n",
    "numbers and asked Ben to use it. Here's the code that Ben wrote:"
   ]
  },
  {
   "cell_type": "code",
   "execution_count": null,
   "id": "5900dc60-5391-4b98-8925-034a85986df1",
   "metadata": {},
   "outputs": [],
   "source": [
    "def is_dot_separated_ip_address(input_string):\n",
    "    dot_separated_words = input_string.split(\".\")\n",
    "    while len(dot_separated_words) > 0:\n",
    "        word = dot_separated_words.pop()\n",
    "        if not is_an_ip_number(word):\n",
    "            break\n",
    "\n",
    "    return True\n"
   ]
  },
  {
   "cell_type": "markdown",
   "id": "d5d80a9f-5d47-4226-bab1-c69d2d8b98cc",
   "metadata": {},
   "source": [
    "Alyssa reviewed Ben's code and said, \"It's a good start, but you missed a few things. \n",
    "\n",
    "You're not returning a false condition, and you're not handling the case when the input string \n",
    "\n",
    "has more or less than 4 components, e.g., 4.5.5 or 1.2.3.4.5: both those values should be invalid.\""
   ]
  },
  {
   "cell_type": "code",
   "execution_count": null,
   "id": "737aa445-0d54-45fd-848d-245711b9def7",
   "metadata": {},
   "outputs": [],
   "source": [
    "def is_dot_separated_ip_address(input_string):\n",
    "    dot_separated_words = input_string.split(\".\")\n",
    "    if len(dot_separated_words) != 4:\n",
    "        return False\n",
    "    while len(dot_separated_words) > 0:\n",
    "        word = dot_separated_words.pop()\n",
    "        if not is_an_ip_number(word):\n",
    "            return False\n",
    "\n",
    "    return True\n"
   ]
  },
  {
   "cell_type": "markdown",
   "id": "b1a92b0d-da67-49a7-b0f2-ea4eef332917",
   "metadata": {},
   "source": [
    "(5) What do you expect to happen when the greeting variable is referenced \n",
    "\n",
    "in the last line of the code below?"
   ]
  },
  {
   "cell_type": "code",
   "execution_count": 6,
   "id": "b62f0e85-3dbc-4989-a590-0f6a7c3e3536",
   "metadata": {},
   "outputs": [
    {
     "ename": "NameError",
     "evalue": "name 'greeting' is not defined",
     "output_type": "error",
     "traceback": [
      "\u001b[31m---------------------------------------------------------------------------\u001b[39m",
      "\u001b[31mNameError\u001b[39m                                 Traceback (most recent call last)",
      "\u001b[36mCell\u001b[39m\u001b[36m \u001b[39m\u001b[32mIn[6]\u001b[39m\u001b[32m, line 4\u001b[39m\n\u001b[32m      1\u001b[39m \u001b[38;5;28;01mif\u001b[39;00m \u001b[38;5;28;01mFalse\u001b[39;00m:\n\u001b[32m      2\u001b[39m     greeting = \u001b[33m\"\u001b[39m\u001b[33mhello world\u001b[39m\u001b[33m\"\u001b[39m\n\u001b[32m----> \u001b[39m\u001b[32m4\u001b[39m \u001b[38;5;28mprint\u001b[39m(\u001b[43mgreeting\u001b[49m)\n",
      "\u001b[31mNameError\u001b[39m: name 'greeting' is not defined"
     ]
    }
   ],
   "source": [
    "if False:\n",
    "    greeting = \"hello world\"\n",
    "\n",
    "print(greeting)"
   ]
  },
  {
   "cell_type": "markdown",
   "id": "41bcff56-1efd-43f3-808f-e1cbbc177ece",
   "metadata": {},
   "source": [
    "I expect there to be a `NameError`. The assignment of `greeting` on line 2 will never\n",
    "\n",
    "be executed as the condition `False` will, obviously, always evaluate to `False`."
   ]
  }
 ],
 "metadata": {
  "kernelspec": {
   "display_name": "Python 3 (ipykernel)",
   "language": "python",
   "name": "python3"
  },
  "language_info": {
   "codemirror_mode": {
    "name": "ipython",
    "version": 3
   },
   "file_extension": ".py",
   "mimetype": "text/x-python",
   "name": "python",
   "nbconvert_exporter": "python",
   "pygments_lexer": "ipython3",
   "version": "3.12.3"
  }
 },
 "nbformat": 4,
 "nbformat_minor": 5
}
