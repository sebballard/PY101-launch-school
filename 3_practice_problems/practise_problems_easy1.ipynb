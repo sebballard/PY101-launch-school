{
 "cells": [
  {
   "cell_type": "raw",
   "id": "0f545732-9c28-4ffd-920c-86e93f097c63",
   "metadata": {},
   "source": [
    "1. Will the code below raise an error?"
   ]
  },
  {
   "cell_type": "code",
   "execution_count": null,
   "id": "7f867562-e823-4605-8d1c-18389a149b9e",
   "metadata": {},
   "outputs": [],
   "source": [
    "numbers = [1, 2, 3]\n",
    "numbers[6] = 5"
   ]
  },
  {
   "cell_type": "markdown",
   "id": "c582907a-bcf6-4d4a-b644-02fa24438758",
   "metadata": {},
   "source": [
    "Yes, it will result in an `IndexError` as it tries to access an index that does not exist, or in other words: is out of range!"
   ]
  },
  {
   "cell_type": "markdown",
   "id": "a59b96bc-b159-4cfc-9c09-3fb7f43e04ea",
   "metadata": {},
   "source": [
    "2) How can you determine whether a given string ends with an exclamation mark (!)?\n",
    "   \n",
    "Write some code that prints True or False depending on whether the string ends with an exclamation mark."
   ]
  },
  {
   "cell_type": "code",
   "execution_count": 4,
   "id": "529887b3-73ff-4418-8392-3b1365514f37",
   "metadata": {},
   "outputs": [
    {
     "name": "stdout",
     "output_type": "stream",
     "text": [
      "True\n",
      "False\n"
     ]
    }
   ],
   "source": [
    "str1 = \"Come over here!\"  # True\n",
    "str2 = \"What's up, Doc?\"  # False\n",
    "\n",
    "def does_end_with_exclamation(input_str):\n",
    "    print (input_str[-1] == '!')Show two different ways to create a new string with \"Four score and \" prepended to the front of the string referenced by famous_words.\n",
    "\n",
    "does_end_with_exclamation(str1)\n",
    "does_end_with_exclamation(str2)"
   ]
  },
  {
   "cell_type": "raw",
   "id": "7fc11cdd-400a-4464-92db-6da7e490f807",
   "metadata": {},
   "source": [
    "3. Show two different ways to create a new string with\n",
    "\n",
    "\"Four score and \" prepended to the front of the string referenced by famous_words."
   ]
  },
  {
   "cell_type": "code",
   "execution_count": 6,
   "id": "a648ac61-93f6-4e0e-af8d-114a89d0cc9e",
   "metadata": {},
   "outputs": [
    {
     "name": "stdout",
     "output_type": "stream",
     "text": [
      "Four score and seven years ago...\n",
      "Four score and seven years ago...\n",
      "Four score and seven years ago...\n"
     ]
    }
   ],
   "source": [
    "famous_words = \"seven years ago...\"\n",
    "\n",
    "solution1 = 'Four score and ' + famous_words\n",
    "solution2 = f\"Four score and {famous_words}\"\n",
    "solution3 = \"Four score and {}\".format(famous_words)\n",
    "\n",
    "print(solution1)\n",
    "print(solution2)\n",
    "print(solution3)"
   ]
  },
  {
   "cell_type": "raw",
   "id": "caf4d759-96a2-4dc4-a9e3-170f1ca801f9",
   "metadata": {},
   "source": [
    "4) Using the following string, print a string that contains the same value, but using\n",
    "\n",
    "all lowercase letters except for the first character, which should be capitalized."
   ]
  },
  {
   "cell_type": "code",
   "execution_count": 9,
   "id": "06d880b1-8410-46af-acc0-b99e29aa58d1",
   "metadata": {},
   "outputs": [
    {
     "name": "stdout",
     "output_type": "stream",
     "text": [
      "The munsters are creepy and spooky.\n",
      "The munsters are creepy and spooky.\n"
     ]
    }
   ],
   "source": [
    "munsters_description = \"the Munsters are CREEPY and Spooky.\"\n",
    "\n",
    "solution1 = munsters_description.capitalize()\n",
    "solution2 = munsters_description[0].upper() + munsters_description[1:].lower()\n",
    "\n",
    "print(solution1)\n",
    "print(solution2)"
   ]
  },
  {
   "cell_type": "raw",
   "id": "5ee82e01-767d-4bd0-b0aa-22553751229f",
   "metadata": {},
   "source": [
    "5) Starting with the string:\n",
    "\n",
    "`munsters_description = \"The Munsters are creepy and spooky.\"`\n",
    "\n",
    "print the string with the case of all letters swapped:"
   ]
  },
  {
   "cell_type": "raw",
   "id": "1882bd79-478a-4fe5-8109-29e7eba2656a",
   "metadata": {},
   "source": [
    "munsters_description = \"The Munsters are creepy and spooky.\"\n",
    "\n",
    "case_swapped = \"\"\n",
    "\n",
    "for char in munsters_description:\n",
    "    if char.islower():\n",
    "        case_swapped += char.upper()\n",
    "    else:\n",
    "        case_swapped += char.lower()\n",
    "\n",
    "print(case_swapped)"
   ]
  },
  {
   "cell_type": "raw",
   "id": "561d994d-d4d4-48a3-87f4-a526ffd2bfbc",
   "metadata": {},
   "source": [
    "6) Determine whether the name Dino appears in the strings below -- check each string separately:"
   ]
  },
  {
   "cell_type": "code",
   "execution_count": 4,
   "id": "3c4800a1-aa21-4a81-8268-80b5baee1e85",
   "metadata": {},
   "outputs": [
    {
     "name": "stdout",
     "output_type": "stream",
     "text": [
      "False\n",
      "True\n"
     ]
    }
   ],
   "source": [
    "str1 = \"Few things in life are as important as house training your pet dinosaur.\"\n",
    "str2 = \"Fred and Wilma have a pet dinosaur named Dino.\"\n",
    "\n",
    "print(\"Dino\" in str1)\n",
    "print(\"Dino\" in str2)"
   ]
  },
  {
   "cell_type": "raw",
   "id": "1bbd1664-9d8a-4c99-8f87-f669a8e0d54b",
   "metadata": {},
   "source": [
    "7) How can we add the family pet, \"Dino\", to the following list?"
   ]
  },
  {
   "cell_type": "code",
   "execution_count": 6,
   "id": "57ff407e-f807-4c00-b05b-38e8d931a995",
   "metadata": {},
   "outputs": [
    {
     "name": "stdout",
     "output_type": "stream",
     "text": [
      "['Fred', 'Barney', 'Wilma', 'Betty', 'Bambam', 'Pebbles', 'Dino']\n"
     ]
    }
   ],
   "source": [
    "flintstones = [\"Fred\", \"Barney\", \"Wilma\", \"Betty\", \"Bambam\", \"Pebbles\"]\n",
    "\n",
    "flintstones.append(\"Dino\")\n",
    "\n",
    "print(flintstones)"
   ]
  },
  {
   "cell_type": "raw",
   "id": "877e6ece-1d8b-48d0-afde-a0b108d11d0c",
   "metadata": {},
   "source": [
    "8) How can we add multiple items to our list (e.g., 'Dino' and 'Hoppy')? Replace the call to append with another method invocation."
   ]
  },
  {
   "cell_type": "code",
   "execution_count": 7,
   "id": "fabd27e4-80c3-4d75-b7c4-05efe02c3c5b",
   "metadata": {},
   "outputs": [
    {
     "name": "stdout",
     "output_type": "stream",
     "text": [
      "['Fred', 'Barney', 'Wilma', 'Betty', 'Bambam', 'Pebbles', 'Dino', 'Hoppy']\n"
     ]
    }
   ],
   "source": [
    "flintstones = [\"Fred\", \"Barney\", \"Wilma\", \"Betty\", \"Bambam\", \"Pebbles\"]\n",
    "\n",
    "flintstones.extend([\"Dino\", \"Hoppy\"])\n",
    "\n",
    "print(flintstones)"
   ]
  },
  {
   "cell_type": "raw",
   "id": "d09a55a8-5831-4d5a-943d-2f58e2b6c410",
   "metadata": {},
   "source": [
    "9) Print a new version of the sentence given by advice that ends just before the word house. Don't worry about spaces or punctuation: remove everything starting from the beginning of house to the end of the sentence.9) Print a new version of the sentence given by advice that ends just before the word house. Don't worry about spaces or punctuation: remove everything starting from the beginning of house to the end of the sentence."
   ]
  },
  {
   "cell_type": "code",
   "execution_count": 8,
   "id": "e7884ed9-fb6e-4b78-828e-2856423f5b36",
   "metadata": {},
   "outputs": [
    {
     "name": "stdout",
     "output_type": "stream",
     "text": [
      "Few things in life are as important as \n"
     ]
    }
   ],
   "source": [
    "advice = \"Few things in life are as important as house training your pet dinosaur.\"\n",
    "\n",
    "new_sentence = advice.split(\"house\")[0]\n",
    "print(new_sentence)\n",
    "# Expected output:\n",
    "# Few things in life are as important as\n"
   ]
  },
  {
   "cell_type": "raw",
   "id": "041d180f-bdc1-42f0-a850-b1d927a658f5",
   "metadata": {},
   "source": [
    "10) Print the following string with the word important replaced by urgent:\n",
    "\n"
   ]
  },
  {
   "cell_type": "code",
   "execution_count": 9,
   "id": "850bc996-0ee6-4d6a-b813-4563a9286314",
   "metadata": {},
   "outputs": [
    {
     "name": "stdout",
     "output_type": "stream",
     "text": [
      "Few things in life are as urgent as house training your pet dinosaur.\n"
     ]
    }
   ],
   "source": [
    "advice = \"Few things in life are as important as house training your pet dinosaur.\"\n",
    "\n",
    "advice = advice.replace(\"important\", \"urgent\")\n",
    "\n",
    "print(advice)"
   ]
  }
 ],
 "metadata": {
  "kernelspec": {
   "display_name": "Python 3 (ipykernel)",
   "language": "python",
   "name": "python3"
  },
  "language_info": {
   "codemirror_mode": {
    "name": "ipython",
    "version": 3
   },
   "file_extension": ".py",
   "mimetype": "text/x-python",
   "name": "python",
   "nbconvert_exporter": "python",
   "pygments_lexer": "ipython3",
   "version": "3.12.3"
  }
 },
 "nbformat": 4,
 "nbformat_minor": 5
}
