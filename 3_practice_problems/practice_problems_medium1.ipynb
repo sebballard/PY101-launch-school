{
 "cells": [
  {
   "cell_type": "markdown",
   "id": "633dfdd0-1715-4bac-a7b1-a9d74fa3e3f3",
   "metadata": {},
   "source": [
    "(1) Write a program that outputs The Flintstones Rock! 10 times, with each line prefixed by one more hyphen than the line above it. \n",
    "\n",
    "The output should start out like this:"
   ]
  },
  {
   "cell_type": "code",
   "execution_count": null,
   "id": "b999868c-a282-45c6-b7bf-1d530b6d5f02",
   "metadata": {},
   "outputs": [],
   "source": [
    "-The Flintstones Rock!\n",
    "--The Flintstones Rock!\n",
    "---The Flintstones Rock!"
   ]
  },
  {
   "cell_type": "code",
   "execution_count": 3,
   "id": "47ac472c-ee23-4752-890e-0b8088ba301a",
   "metadata": {},
   "outputs": [
    {
     "name": "stdout",
     "output_type": "stream",
     "text": [
      "-The Flintstones Rock!\n",
      "--The Flintstones Rock!\n",
      "---The Flintstones Rock!\n",
      "----The Flintstones Rock!\n",
      "-----The Flintstones Rock!\n",
      "------The Flintstones Rock!\n",
      "-------The Flintstones Rock!\n",
      "--------The Flintstones Rock!\n",
      "---------The Flintstones Rock!\n",
      "----------The Flintstones Rock!\n"
     ]
    }
   ],
   "source": [
    "for num in range(1 ,11):\n",
    "    hyphens = '-' * num\n",
    "    print(hyphens + 'The Flintstones Rock')"
   ]
  },
  {
   "cell_type": "markdown",
   "id": "e3913a70-d62c-4b4f-8526-ded22f6cbae0",
   "metadata": {},
   "source": [
    "(2) Alan wrote the following function, which was intended to return all of the factors of number:"
   ]
  },
  {
   "cell_type": "code",
   "execution_count": null,
   "id": "29754ccf-56ea-4543-9135-244e05f4e043",
   "metadata": {},
   "outputs": [],
   "source": [
    "def factors(number):\n",
    "    divisor = number\n",
    "    result = []\n",
    "    while divisor != 0:\n",
    "        if number % divisor == 0:\n",
    "            result.append(number // divisor)\n",
    "        divisor -= 1\n",
    "    return result\n"
   ]
  },
  {
   "cell_type": "markdown",
   "id": "15c641af-3529-4fab-8ec3-b06b83b661d1",
   "metadata": {},
   "source": [
    "Alyssa noticed that this code would fail when the input is a negative number, \n",
    "\n",
    "and asked Alan to change the loop. How can he make this work? "
   ]
  },
  {
   "cell_type": "code",
   "execution_count": 5,
   "id": "6f39b593-7e91-4fec-a60c-98634188c609",
   "metadata": {},
   "outputs": [
    {
     "name": "stdout",
     "output_type": "stream",
     "text": [
      "[1, 2, 5, 10]\n",
      "[]\n"
     ]
    }
   ],
   "source": [
    "def factors(number):\n",
    "    divisor = number\n",
    "    result = []\n",
    "    while divisor > 0:\n",
    "        if number % divisor == 0:\n",
    "            result.append(number // divisor)\n",
    "        divisor -= 1\n",
    "    return result\n",
    "\n",
    "print(factors(10))\n",
    "print(factors(-5))"
   ]
  },
  {
   "cell_type": "markdown",
   "id": "74f7f720-03ef-48ab-9a0c-06cc29edbc8b",
   "metadata": {},
   "source": [
    "Bonus Question: What is the purpose of number % divisor == 0 in that code?"
   ]
  },
  {
   "cell_type": "markdown",
   "id": "3db66a38-9d05-4767-8593-684a62a481de",
   "metadata": {},
   "source": [
    "To check if number is evenly divisble by divisor"
   ]
  },
  {
   "cell_type": "markdown",
   "id": "5bc070c2-583f-4356-9eaa-3c8a86d6cd61",
   "metadata": {},
   "source": [
    "(3) Alyssa was asked to write an implementation of a rolling buffer. \n",
    "\n",
    "You can add and remove elements from a rolling buffer. However, once the buffer becomes full, \n",
    "\n",
    "any new elements will displace the oldest elements in the buffer.\n",
    "\n",
    "She wrote two implementations of the code for adding elements to the buffer:"
   ]
  },
  {
   "cell_type": "code",
   "execution_count": null,
   "id": "c66f5aab-5761-4373-ad89-56a66b86027a",
   "metadata": {},
   "outputs": [],
   "source": [
    "def add_to_rolling_buffer1(buffer, max_buffer_size, new_element):\n",
    "    buffer.append(new_element)\n",
    "    if len(buffer) > max_buffer_size:\n",
    "        buffer.pop(0)\n",
    "    return buffer\n",
    "\n",
    "def add_to_rolling_buffer2(buffer, max_buffer_size, new_element):\n",
    "    buffer = buffer + [new_element]\n",
    "    if len(buffer) > max_buffer_size:\n",
    "        buffer.pop(0)\n",
    "    return buffer\n"
   ]
  },
  {
   "cell_type": "markdown",
   "id": "a5dc745a-83b3-43c7-be54-9aca290764d9",
   "metadata": {},
   "source": [
    "What is the key difference between these implementations?"
   ]
  },
  {
   "cell_type": "markdown",
   "id": "786fedf4-e3ae-48e2-ab4c-f176922aaccf",
   "metadata": {},
   "source": [
    "The first function adds a new element to the rolling buffer, in other words it mutates the list that is passed to it.\n",
    "\n",
    "THe second function creates a new list with the new element."
   ]
  },
  {
   "cell_type": "markdown",
   "id": "6704d5d9-6fde-4f96-9523-f83bab517a9a",
   "metadata": {},
   "source": [
    "(4) What will the following two lines of code output?"
   ]
  },
  {
   "cell_type": "code",
   "execution_count": 7,
   "id": "ec90018c-c3ac-4179-b3ab-76d38f4e58d7",
   "metadata": {},
   "outputs": [
    {
     "name": "stdout",
     "output_type": "stream",
     "text": [
      "0.8999999999999999\n",
      "False\n"
     ]
    }
   ],
   "source": [
    "print(0.3 + 0.6) # 0.89999999\n",
    "print(0.3 + 0.6 == 0.9) # False"
   ]
  },
  {
   "cell_type": "markdown",
   "id": "4a691090-52e0-4f10-94b9-49c7a5e7e7d9",
   "metadata": {},
   "source": [
    "(5) What do you think the following code will output?\n",
    "```\n",
    "nan_value = float(\"nan\")\n",
    "\n",
    "print(nan_value == float(\"nan\"))\n",
    "```"
   ]
  },
  {
   "cell_type": "markdown",
   "id": "f0a06bfb-0f9e-4beb-b9fb-0fb39667410b",
   "metadata": {},
   "source": [
    "I think it will output `False`"
   ]
  },
  {
   "cell_type": "code",
   "execution_count": 9,
   "id": "5d62d86a-296e-479c-9d76-71a1dc2227d7",
   "metadata": {},
   "outputs": [
    {
     "name": "stdout",
     "output_type": "stream",
     "text": [
      "False\n"
     ]
    }
   ],
   "source": [
    "nan_value = float(\"nan\")\n",
    "\n",
    "print(nan_value == float(\"nan\"))\n"
   ]
  },
  {
   "cell_type": "markdown",
   "id": "679c0723-f405-4815-8564-1e3b9843793c",
   "metadata": {},
   "source": [
    "Bonus Question\n",
    "\n",
    "How can you reliably test if a value is nan?"
   ]
  },
  {
   "cell_type": "markdown",
   "id": "99baf6ef-48b3-41dc-91de-b6111abb1c0a",
   "metadata": {},
   "source": [
    "You can use the `math.isnan` function: "
   ]
  },
  {
   "cell_type": "code",
   "execution_count": 10,
   "id": "39ea55e7-eb82-4a39-95f3-4dccebe12f92",
   "metadata": {},
   "outputs": [
    {
     "name": "stdout",
     "output_type": "stream",
     "text": [
      "True\n"
     ]
    }
   ],
   "source": [
    "import math\n",
    "\n",
    "nan_value = float(\"nan\")\n",
    "\n",
    "print(math.isnan(nan_value))"
   ]
  },
  {
   "cell_type": "markdown",
   "id": "0ae7b7b4-9500-49f8-a915-24997ab454ba",
   "metadata": {},
   "source": [
    "(6) What is the output of the following code?"
   ]
  },
  {
   "cell_type": "code",
   "execution_count": null,
   "id": "6f2d35d6-68a8-452e-8b10-d407dfbfcc4d",
   "metadata": {},
   "outputs": [],
   "source": [
    "answer = 42\n",
    "\n",
    "def mess_with_it(some_number):\n",
    "    return some_number + 8\n",
    "\n",
    "new_answer = mess_with_it(answer)\n",
    "\n",
    "print(answer - 8)\n"
   ]
  },
  {
   "cell_type": "markdown",
   "id": "fbf5602f-1025-4903-9f09-c1271d283baf",
   "metadata": {},
   "source": [
    "I think the code will print `34`."
   ]
  },
  {
   "cell_type": "code",
   "execution_count": 11,
   "id": "2ebae809-bcaa-4506-bc72-af50cbb0a7ad",
   "metadata": {},
   "outputs": [
    {
     "name": "stdout",
     "output_type": "stream",
     "text": [
      "34\n"
     ]
    }
   ],
   "source": [
    "answer = 42\n",
    "\n",
    "def mess_with_it(some_number):\n",
    "    return some_number + 8\n",
    "\n",
    "new_answer = mess_with_it(answer)\n",
    "\n",
    "print(answer - 8)"
   ]
  },
  {
   "cell_type": "markdown",
   "id": "f78a523f-49e5-4792-8695-afd698d1445f",
   "metadata": {},
   "source": [
    "(7) One day, Spot was playing with the Munster family's home computer, \n",
    "\n",
    "and he wrote a small program to mess with their demographic data:"
   ]
  },
  {
   "cell_type": "code",
   "execution_count": null,
   "id": "84e000e0-e8cd-4408-8434-1a88b8103256",
   "metadata": {},
   "outputs": [],
   "source": [
    "munsters = {\n",
    "    \"Herman\": {\"age\": 32, \"gender\": \"male\"},\n",
    "    \"Lily\": {\"age\": 30, \"gender\": \"female\"},\n",
    "    \"Grandpa\": {\"age\": 402, \"gender\": \"male\"},\n",
    "    \"Eddie\": {\"age\": 10, \"gender\": \"male\"},\n",
    "    \"Marilyn\": {\"age\": 23, \"gender\": \"female\"},\n",
    "}\n",
    "\n",
    "def mess_with_demographics(demo_dict):\n",
    "    for key, value in demo_dict.items():\n",
    "        value[\"age\"] += 42\n",
    "        value[\"gender\"] = \"other\""
   ]
  },
  {
   "cell_type": "markdown",
   "id": "a6206b13-fcf6-4b81-85d7-eaabb3797230",
   "metadata": {},
   "source": [
    "After writing this function, he typed the following code:\n"
   ]
  },
  {
   "cell_type": "code",
   "execution_count": 12,
   "id": "6027a60a-b081-4b1b-876d-071901002b96",
   "metadata": {},
   "outputs": [
    {
     "ename": "NameError",
     "evalue": "name 'mess_with_demographics' is not defined",
     "output_type": "error",
     "traceback": [
      "\u001b[31m---------------------------------------------------------------------------\u001b[39m",
      "\u001b[31mNameError\u001b[39m                                 Traceback (most recent call last)",
      "\u001b[36mCell\u001b[39m\u001b[36m \u001b[39m\u001b[32mIn[12]\u001b[39m\u001b[32m, line 1\u001b[39m\n\u001b[32m----> \u001b[39m\u001b[32m1\u001b[39m \u001b[43mmess_with_demographics\u001b[49m(munsters)\n",
      "\u001b[31mNameError\u001b[39m: name 'mess_with_demographics' is not defined"
     ]
    }
   ],
   "source": [
    "mess_with_demographics(munsters)"
   ]
  },
  {
   "cell_type": "markdown",
   "id": "c80ba8c2-d1bd-4087-8900-e16b97e3f502",
   "metadata": {},
   "source": [
    "Before Grandpa could stop him, Spot hit the Enter key with his tail. Did the family's data get ransacked? Why or why not?"
   ]
  },
  {
   "cell_type": "markdown",
   "id": "ac6034d4-142d-4503-b821-4e9b57408ad7",
   "metadata": {},
   "source": [
    "Yes, the family data was altered. Dictionaries are mutable and when they are passed to a function\n",
    "\n",
    "a reference to the object is passed, instead of a copy. Any changes made inside the function also effect the global\n",
    "\n",
    "version of said dictionary. "
   ]
  },
  {
   "cell_type": "markdown",
   "id": "f553cc38-32bb-4c01-bd6f-bfadc290219c",
   "metadata": {},
   "source": [
    "(8) Function and method calls can take expressions as arguments. \n",
    "\n",
    "Suppose we define a function named rps as follows, which follows the classic rules of the rock-paper-scissors game, \n",
    "\n",
    "but with a slight twist: in the event of a tie, it just returns the choice made by both players."
   ]
  },
  {
   "cell_type": "code",
   "execution_count": 13,
   "id": "1f9770c7-1074-44f2-a385-436ade6ccdfd",
   "metadata": {},
   "outputs": [],
   "source": [
    "def rps(fist1, fist2):\n",
    "    if fist1 == \"rock\":\n",
    "        return \"paper\" if fist2 == \"paper\" else \"rock\"\n",
    "    elif fist1 == \"paper\":\n",
    "        return \"scissors\" if fist2 == \"scissors\" else \"paper\"\n",
    "    else:\n",
    "        return \"rock\" if fist2 == \"rock\" else \"scissors\"\n"
   ]
  },
  {
   "cell_type": "markdown",
   "id": "87be75fb-3143-45f3-a05e-b28f35c025f5",
   "metadata": {},
   "source": [
    "What does the following code output?"
   ]
  },
  {
   "cell_type": "code",
   "execution_count": 14,
   "id": "c87d6894-aaa8-44f9-8067-074deadce430",
   "metadata": {},
   "outputs": [
    {
     "name": "stdout",
     "output_type": "stream",
     "text": [
      "paper\n",
      "paper\n",
      "paper\n",
      "paper\n"
     ]
    }
   ],
   "source": [
    "print(rps(rps(rps(\"rock\", \"paper\"), rps(\"rock\", \"scissors\")), \"rock\"))\n",
    "print(rps(rps(\"paper\", \"rock\"), \"rock\"))\n",
    "print(rps(\"paper\", \"rock\"))\n",
    "print(\"paper\")"
   ]
  },
  {
   "cell_type": "markdown",
   "id": "d48aabcb-5c67-407c-8748-d0ee326fbfcf",
   "metadata": {},
   "source": [
    "(9) Consider these two simple functions:"
   ]
  },
  {
   "cell_type": "code",
   "execution_count": 16,
   "id": "a0168974-e02c-47a8-9b3f-8cc8ffbcc7fa",
   "metadata": {},
   "outputs": [],
   "source": [
    "def foo(param=\"no\"):\n",
    "    return \"yes\"\n",
    "\n",
    "def bar(param=\"no\"):\n",
    "    return (param == \"no\") and (foo() or \"no\")"
   ]
  },
  {
   "cell_type": "markdown",
   "id": "c02622ce-4b2d-4968-b3d7-0e6671b7ff10",
   "metadata": {},
   "source": [
    "What will the following function invocation return?"
   ]
  },
  {
   "cell_type": "code",
   "execution_count": null,
   "id": "7d37c049-0f88-4a41-affb-d442be80fd2b",
   "metadata": {},
   "outputs": [],
   "source": [
    "bar(foo())\n",
    "bar(\"yes\")\n",
    "False"
   ]
  },
  {
   "cell_type": "code",
   "execution_count": 17,
   "id": "da5269ff-9170-4295-896c-b6a1defee7c9",
   "metadata": {},
   "outputs": [
    {
     "name": "stdout",
     "output_type": "stream",
     "text": [
      "False\n"
     ]
    }
   ],
   "source": [
    "print(bar(foo()))\n"
   ]
  },
  {
   "cell_type": "markdown",
   "id": "79749b79-17eb-42b7-afd1-ba5a1670c497",
   "metadata": {},
   "source": [
    "(10) Given the following code, predict the output:"
   ]
  },
  {
   "cell_type": "code",
   "execution_count": null,
   "id": "1e41ab04-6ad6-49db-8000-06711a22d6f5",
   "metadata": {},
   "outputs": [],
   "source": [
    "a = 42\n",
    "b = 42\n",
    "c = a\n",
    "\n",
    "print(id(a) == id(b) == id(c))"
   ]
  },
  {
   "cell_type": "markdown",
   "id": "f1d98b74-622f-43ff-a43a-a7288ba1910c",
   "metadata": {},
   "source": [
    "I think the code will output `True`!"
   ]
  },
  {
   "cell_type": "code",
   "execution_count": 18,
   "id": "ac511fd5-66dc-4892-aef4-de068c81b81e",
   "metadata": {},
   "outputs": [
    {
     "name": "stdout",
     "output_type": "stream",
     "text": [
      "True\n"
     ]
    }
   ],
   "source": [
    "a = 42\n",
    "b = 42\n",
    "c = a\n",
    "\n",
    "print(id(a) == id(b) == id(c))"
   ]
  }
 ],
 "metadata": {
  "kernelspec": {
   "display_name": "Python 3 (ipykernel)",
   "language": "python",
   "name": "python3"
  },
  "language_info": {
   "codemirror_mode": {
    "name": "ipython",
    "version": 3
   },
   "file_extension": ".py",
   "mimetype": "text/x-python",
   "name": "python",
   "nbconvert_exporter": "python",
   "pygments_lexer": "ipython3",
   "version": "3.12.3"
  }
 },
 "nbformat": 4,
 "nbformat_minor": 5
}
