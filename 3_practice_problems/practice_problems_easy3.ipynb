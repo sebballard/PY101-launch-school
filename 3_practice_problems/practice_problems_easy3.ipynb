{
 "cells": [
  {
   "cell_type": "markdown",
   "id": "ce8b8bed-5f68-4f71-b3a0-30b7e793cc25",
   "metadata": {},
   "source": [
    "(1) Write two different ways to remove all of the elements from the following list:"
   ]
  },
  {
   "cell_type": "code",
   "execution_count": 1,
   "id": "9806e32c-8dda-4806-bf09-071afdcacd37",
   "metadata": {},
   "outputs": [
    {
     "name": "stdout",
     "output_type": "stream",
     "text": [
      "[]\n"
     ]
    }
   ],
   "source": [
    "numbers = [1, 2, 3, 4]\n",
    "for _ in range(len(numbers)):\n",
    "    numbers.pop()\n",
    "print(numbers)"
   ]
  },
  {
   "cell_type": "code",
   "execution_count": 3,
   "id": "4acff41c-3ba9-4d72-bcf6-a823b683959b",
   "metadata": {},
   "outputs": [
    {
     "name": "stdout",
     "output_type": "stream",
     "text": [
      "[]\n"
     ]
    }
   ],
   "source": [
    "numbers = [1, 2, 3, 4]\n",
    "numbers.clear()\n",
    "print(numbers)"
   ]
  },
  {
   "cell_type": "code",
   "execution_count": 4,
   "id": "ab78fa6d-2544-4e96-b273-967fbbe4073c",
   "metadata": {},
   "outputs": [
    {
     "name": "stdout",
     "output_type": "stream",
     "text": [
      "[]\n"
     ]
    }
   ],
   "source": [
    "# Alternative from solutions\n",
    "numbers = [1, 2, 3, 4]\n",
    "\n",
    "while numbers:\n",
    "    numbers.pop()\n",
    "\n",
    "print(numbers)"
   ]
  },
  {
   "cell_type": "markdown",
   "id": "bdc57bd1-7ead-4a77-9336-3a2e151ca7d5",
   "metadata": {},
   "source": [
    "(2) What will the following code output?"
   ]
  },
  {
   "cell_type": "code",
   "execution_count": null,
   "id": "83e207cf-84b7-46a3-a3e3-349ffa94578a",
   "metadata": {},
   "outputs": [],
   "source": [
    "print([1, 2, 3] + [4, 5])\n"
   ]
  },
  {
   "cell_type": "markdown",
   "id": "6e3fefbc-5596-4ce7-8752-3efd0a048876",
   "metadata": {},
   "source": [
    "I think it will print : `[1, 2, 3, 4, 5]`"
   ]
  },
  {
   "cell_type": "code",
   "execution_count": 7,
   "id": "d79c9b02-8b87-4638-a766-deaa09f308c9",
   "metadata": {},
   "outputs": [
    {
     "name": "stdout",
     "output_type": "stream",
     "text": [
      "[1, 2, 3, 4, 5]\n"
     ]
    }
   ],
   "source": [
    "# Test\n",
    "print([1, 2, 3] + [4, 5])"
   ]
  },
  {
   "cell_type": "markdown",
   "id": "c78f69e6-2573-4e65-a18d-6761d804aea1",
   "metadata": {},
   "source": [
    "(3) What will the following code output?"
   ]
  },
  {
   "cell_type": "code",
   "execution_count": null,
   "id": "dda23ff8-de3a-4b75-a23f-79e03699d086",
   "metadata": {},
   "outputs": [],
   "source": [
    "str1 = \"hello there\"\n",
    "str2 = str1\n",
    "str2 = \"goodbye!\"\n",
    "print(str1)"
   ]
  },
  {
   "cell_type": "markdown",
   "id": "19ab4b0b-79ff-44a0-b3f4-09b501ae1e29",
   "metadata": {},
   "source": [
    "It will print `hello there`"
   ]
  },
  {
   "cell_type": "code",
   "execution_count": 8,
   "id": "753de92b-3771-4f2d-b998-3934e81e8228",
   "metadata": {},
   "outputs": [
    {
     "name": "stdout",
     "output_type": "stream",
     "text": [
      "hello there\n"
     ]
    }
   ],
   "source": [
    "str1 = \"hello there\"\n",
    "str2 = str1\n",
    "str2 = \"goodbye!\"\n",
    "print(str1)"
   ]
  },
  {
   "cell_type": "markdown",
   "id": "11333b2d-2fc6-458a-a2ff-60821064ca3a",
   "metadata": {},
   "source": [
    "(4) What will the following code output?"
   ]
  },
  {
   "cell_type": "code",
   "execution_count": null,
   "id": "a2fa3cbb-9b4c-422d-a5fa-0b362019ddad",
   "metadata": {},
   "outputs": [],
   "source": [
    "my_list1 = [{\"first\": \"value1\"}, {\"second\": \"value2\"}, 3, 4, 5]\n",
    "my_list2 = my_list1.copy()\n",
    "my_list2[0]['first'] = 42\n",
    "print(my_list1)\n"
   ]
  },
  {
   "cell_type": "code",
   "execution_count": null,
   "id": "4eb76b28-15cc-4b2f-990e-c8cca1a10156",
   "metadata": {},
   "outputs": [],
   "source": [
    "# It will print:\n",
    "[{\"first\": 42}, {\"second\": \"value2\"}, 3, 4, 5]"
   ]
  },
  {
   "cell_type": "code",
   "execution_count": 9,
   "id": "10dbd789-df4e-4d15-a29b-b98072fc2471",
   "metadata": {},
   "outputs": [
    {
     "name": "stdout",
     "output_type": "stream",
     "text": [
      "[{'first': 42}, {'second': 'value2'}, 3, 4, 5]\n"
     ]
    }
   ],
   "source": [
    "# Test\n",
    "my_list1 = [{\"first\": \"value1\"}, {\"second\": \"value2\"}, 3, 4, 5]\n",
    "my_list2 = my_list1.copy()\n",
    "my_list2[0]['first'] = 42\n",
    "print(my_list1)"
   ]
  },
  {
   "cell_type": "markdown",
   "id": "dc6976f9-b2e0-48d9-9e62-1129d5b68796",
   "metadata": {},
   "source": [
    "(5) The following function unnecessarily uses two return statements to return boolean values. \n",
    "\n",
    "Can you rewrite this function so it only has one return statement and does not explicitly use either True or False?"
   ]
  },
  {
   "cell_type": "code",
   "execution_count": null,
   "id": "ca6dc224-1dfa-4d19-9abd-e0b510c86790",
   "metadata": {},
   "outputs": [],
   "source": [
    "def is_color_valid(color):\n",
    "    if color == \"blue\" or color == \"green\":\n",
    "        return True\n",
    "    else:\n",
    "        return False\n",
    "\n",
    "def is_color_valid_new1(color):\n",
    "    valid_color = color == \"blue\" or color == \"green\"\n",
    "    return valid_color\n",
    "\n",
    "def is_color_valid_new1(color):\n",
    "    valid_colors = [\"blue\", \"green\"]\n",
    "    return valid_color\n"
   ]
  },
  {
   "cell_type": "code",
   "execution_count": null,
   "id": "2f7f444b-42ed-4826-b2ff-4bb725d5420a",
   "metadata": {},
   "outputs": [],
   "source": []
  }
 ],
 "metadata": {
  "kernelspec": {
   "display_name": "Python 3 (ipykernel)",
   "language": "python",
   "name": "python3"
  },
  "language_info": {
   "codemirror_mode": {
    "name": "ipython",
    "version": 3
   },
   "file_extension": ".py",
   "mimetype": "text/x-python",
   "name": "python",
   "nbconvert_exporter": "python",
   "pygments_lexer": "ipython3",
   "version": "3.12.3"
  }
 },
 "nbformat": 4,
 "nbformat_minor": 5
}
